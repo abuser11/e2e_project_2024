{
 "cells": [
  {
   "cell_type": "markdown",
   "metadata": {},
   "source": [
    "## Lab 1.3 - Predicting Real Estate Data in St. Petersburg\n",
    "We have data from Yandex.Realty classified https://realty.yandex.ru containing real estate listings for apartments in St. Petersburg and Leningrad Oblast from 2016 till the middle of August 2018. In this Lab you'll learn how to apply machine learning algorithms to solve business problems. Accurate price prediction can help to find fraudsters automatically and help Yandex.Realty users to make better decisions when buying and selling real estate.\n",
    "\n",
    "Using python with machine learning algotithms is the #1 option for prototyping solutions among data scientists today. We'll take a look at it in this lab.\n",
    "\n",
    "### Main objectives\n",
    "After successful completion of the lab work students will be able to:\n",
    "-\tApply machine learning for solving price prediction problem\n",
    "-   Calculate metrics which can help us find out whether our machine learning model is ready for production\n",
    "\n",
    "### Tasks\n",
    "-\tEncode dataset\n",
    "-\tSplit dataset to train and validation datasets\n",
    "-\tApply decision tree algorithm to build ML (machine learning) model for price predictions\n",
    "-   Calculate metrics\n",
    "-   Try other algorithms and factors to get a better solution \n"
   ]
  },
  {
   "cell_type": "markdown",
   "metadata": {},
   "source": [
    "### 1. Load data with real estate prices"
   ]
  },
  {
   "cell_type": "code",
   "execution_count": 1,
   "metadata": {
    "tags": []
   },
   "outputs": [],
   "source": [
    "import pandas as pd\n",
    "import numpy as np\n",
    "import seaborn as sns\n",
    "import scipy.stats as stats\n",
    "import matplotlib.style as style\n",
    "from matplotlib import pyplot as plt\n",
    "\n",
    "from sklearn.model_selection import GridSearchCV\n",
    "from sklearn.preprocessing import MinMaxScaler, StandardScaler\n",
    "from sklearn.model_selection import train_test_split, RandomizedSearchCV\n",
    "from sklearn.linear_model import LinearRegression\n",
    "from sklearn.ensemble import RandomForestRegressor\n",
    "from sklearn.tree import DecisionTreeRegressor\n",
    "from sklearn.tree import plot_tree\n",
    "from sklearn.metrics import mean_absolute_percentage_error as mape\n",
    "\n",
    "import xgboost as xgb\n",
    "import warnings\n",
    "warnings.filterwarnings(\"ignore\")\n",
    "\n",
    "pd.set_option('display.max_columns', 500)\n",
    "pd.set_option('display.width', 1000)\n",
    "pd.set_option('display.max_colwidth', 1000)\n",
    "style.use('fivethirtyeight')"
   ]
  },
  {
   "cell_type": "code",
   "execution_count": 2,
   "metadata": {
    "tags": []
   },
   "outputs": [],
   "source": [
    "rent_df_cleaned = pd.read_csv('cleaned_dataset.tsv', on_bad_lines='skip', sep='\\t')"
   ]
  },
  {
   "cell_type": "code",
   "execution_count": 3,
   "metadata": {
    "tags": []
   },
   "outputs": [
    {
     "data": {
      "text/html": [
       "<div>\n",
       "<style scoped>\n",
       "    .dataframe tbody tr th:only-of-type {\n",
       "        vertical-align: middle;\n",
       "    }\n",
       "\n",
       "    .dataframe tbody tr th {\n",
       "        vertical-align: top;\n",
       "    }\n",
       "\n",
       "    .dataframe thead th {\n",
       "        text-align: right;\n",
       "    }\n",
       "</style>\n",
       "<table border=\"1\" class=\"dataframe\">\n",
       "  <thead>\n",
       "    <tr style=\"text-align: right;\">\n",
       "      <th></th>\n",
       "      <th>offer_id</th>\n",
       "      <th>first_day_exposition</th>\n",
       "      <th>last_day_exposition</th>\n",
       "      <th>last_price</th>\n",
       "      <th>floor</th>\n",
       "      <th>open_plan</th>\n",
       "      <th>rooms</th>\n",
       "      <th>studio</th>\n",
       "      <th>area</th>\n",
       "      <th>kitchen_area</th>\n",
       "      <th>living_area</th>\n",
       "      <th>renovation</th>\n",
       "      <th>offer_type</th>\n",
       "      <th>unified_address</th>\n",
       "      <th>building_id</th>\n",
       "      <th>price_per_sq_m</th>\n",
       "      <th>house_price_sqm_median</th>\n",
       "    </tr>\n",
       "  </thead>\n",
       "  <tbody>\n",
       "    <tr>\n",
       "      <th>0</th>\n",
       "      <td>1100202</td>\n",
       "      <td>2015-01-24T00:00:00+03:00</td>\n",
       "      <td>2016-01-19T00:00:00+03:00</td>\n",
       "      <td>20000.0</td>\n",
       "      <td>7</td>\n",
       "      <td>0</td>\n",
       "      <td>1</td>\n",
       "      <td>0</td>\n",
       "      <td>28.0</td>\n",
       "      <td>8.0</td>\n",
       "      <td>20.0</td>\n",
       "      <td>3.0</td>\n",
       "      <td>2</td>\n",
       "      <td>Россия, Санкт-Петербург, Богатырский проспект, 5к1</td>\n",
       "      <td>6719200042030752141</td>\n",
       "      <td>714.285714</td>\n",
       "      <td>512.820513</td>\n",
       "    </tr>\n",
       "    <tr>\n",
       "      <th>1</th>\n",
       "      <td>4593125</td>\n",
       "      <td>2015-11-17T00:00:00+03:00</td>\n",
       "      <td>2016-03-04T00:00:00+03:00</td>\n",
       "      <td>24000.0</td>\n",
       "      <td>4</td>\n",
       "      <td>0</td>\n",
       "      <td>2</td>\n",
       "      <td>0</td>\n",
       "      <td>59.0</td>\n",
       "      <td>10.0</td>\n",
       "      <td>35.0</td>\n",
       "      <td>3.0</td>\n",
       "      <td>2</td>\n",
       "      <td>Россия, Санкт-Петербург, Богатырский проспект, 5к1</td>\n",
       "      <td>6719200042030752141</td>\n",
       "      <td>406.779661</td>\n",
       "      <td>512.820513</td>\n",
       "    </tr>\n",
       "    <tr>\n",
       "      <th>2</th>\n",
       "      <td>4586184</td>\n",
       "      <td>2015-11-17T00:00:00+03:00</td>\n",
       "      <td>2016-04-24T00:00:00+03:00</td>\n",
       "      <td>18000.0</td>\n",
       "      <td>6</td>\n",
       "      <td>0</td>\n",
       "      <td>1</td>\n",
       "      <td>0</td>\n",
       "      <td>36.0</td>\n",
       "      <td>9.0</td>\n",
       "      <td>17.0</td>\n",
       "      <td>3.0</td>\n",
       "      <td>2</td>\n",
       "      <td>Россия, Санкт-Петербург, Богатырский проспект, 5к1</td>\n",
       "      <td>6719200042030752141</td>\n",
       "      <td>500.000000</td>\n",
       "      <td>512.820513</td>\n",
       "    </tr>\n",
       "    <tr>\n",
       "      <th>3</th>\n",
       "      <td>5308071</td>\n",
       "      <td>2016-02-04T00:00:00+03:00</td>\n",
       "      <td>2016-02-28T00:00:00+03:00</td>\n",
       "      <td>18000.0</td>\n",
       "      <td>8</td>\n",
       "      <td>0</td>\n",
       "      <td>1</td>\n",
       "      <td>0</td>\n",
       "      <td>39.0</td>\n",
       "      <td>10.0</td>\n",
       "      <td>18.0</td>\n",
       "      <td>0.0</td>\n",
       "      <td>2</td>\n",
       "      <td>Россия, Санкт-Петербург, Богатырский проспект, 5к1</td>\n",
       "      <td>6719200042030752141</td>\n",
       "      <td>461.538462</td>\n",
       "      <td>512.820513</td>\n",
       "    </tr>\n",
       "    <tr>\n",
       "      <th>4</th>\n",
       "      <td>7534283612538021121</td>\n",
       "      <td>2016-02-28T00:00:00+03:00</td>\n",
       "      <td>2016-04-02T00:00:00+03:00</td>\n",
       "      <td>19000.0</td>\n",
       "      <td>3</td>\n",
       "      <td>0</td>\n",
       "      <td>1</td>\n",
       "      <td>0</td>\n",
       "      <td>36.0</td>\n",
       "      <td>8.0</td>\n",
       "      <td>18.0</td>\n",
       "      <td>11.0</td>\n",
       "      <td>2</td>\n",
       "      <td>Россия, Санкт-Петербург, Богатырский проспект, 5к1</td>\n",
       "      <td>6719200042030752141</td>\n",
       "      <td>527.777778</td>\n",
       "      <td>512.820513</td>\n",
       "    </tr>\n",
       "  </tbody>\n",
       "</table>\n",
       "</div>"
      ],
      "text/plain": [
       "              offer_id       first_day_exposition        last_day_exposition  last_price  floor  open_plan  rooms  studio  area  kitchen_area  living_area  renovation  offer_type                                     unified_address          building_id  price_per_sq_m  house_price_sqm_median\n",
       "0              1100202  2015-01-24T00:00:00+03:00  2016-01-19T00:00:00+03:00     20000.0      7          0      1       0  28.0           8.0         20.0         3.0           2  Россия, Санкт-Петербург, Богатырский проспект, 5к1  6719200042030752141      714.285714              512.820513\n",
       "1              4593125  2015-11-17T00:00:00+03:00  2016-03-04T00:00:00+03:00     24000.0      4          0      2       0  59.0          10.0         35.0         3.0           2  Россия, Санкт-Петербург, Богатырский проспект, 5к1  6719200042030752141      406.779661              512.820513\n",
       "2              4586184  2015-11-17T00:00:00+03:00  2016-04-24T00:00:00+03:00     18000.0      6          0      1       0  36.0           9.0         17.0         3.0           2  Россия, Санкт-Петербург, Богатырский проспект, 5к1  6719200042030752141      500.000000              512.820513\n",
       "3              5308071  2016-02-04T00:00:00+03:00  2016-02-28T00:00:00+03:00     18000.0      8          0      1       0  39.0          10.0         18.0         0.0           2  Россия, Санкт-Петербург, Богатырский проспект, 5к1  6719200042030752141      461.538462              512.820513\n",
       "4  7534283612538021121  2016-02-28T00:00:00+03:00  2016-04-02T00:00:00+03:00     19000.0      3          0      1       0  36.0           8.0         18.0        11.0           2  Россия, Санкт-Петербург, Богатырский проспект, 5к1  6719200042030752141      527.777778              512.820513"
      ]
     },
     "execution_count": 3,
     "metadata": {},
     "output_type": "execute_result"
    }
   ],
   "source": [
    "rent_df_cleaned.head()"
   ]
  },
  {
   "cell_type": "code",
   "execution_count": 4,
   "metadata": {
    "tags": []
   },
   "outputs": [],
   "source": [
    "rent_df_cleaned = rent_df_cleaned[['first_day_exposition', \n",
    "                                   'last_day_exposition', \n",
    "                                   'area', 'living_area', \n",
    "                                   'last_price', 'open_plan', \n",
    "                                   'rooms', \n",
    "                                   'renovation',\n",
    "                                   'house_price_sqm_median']]"
   ]
  },
  {
   "cell_type": "code",
   "execution_count": 5,
   "metadata": {
    "tags": []
   },
   "outputs": [],
   "source": [
    "#rent_df_cleaned['log_last_price'] = np.log(rent_df_cleaned['last_price'])"
   ]
  },
  {
   "cell_type": "code",
   "execution_count": 6,
   "metadata": {
    "tags": []
   },
   "outputs": [
    {
     "data": {
      "text/html": [
       "<div>\n",
       "<style scoped>\n",
       "    .dataframe tbody tr th:only-of-type {\n",
       "        vertical-align: middle;\n",
       "    }\n",
       "\n",
       "    .dataframe tbody tr th {\n",
       "        vertical-align: top;\n",
       "    }\n",
       "\n",
       "    .dataframe thead th {\n",
       "        text-align: right;\n",
       "    }\n",
       "</style>\n",
       "<table border=\"1\" class=\"dataframe\">\n",
       "  <thead>\n",
       "    <tr style=\"text-align: right;\">\n",
       "      <th></th>\n",
       "      <th>first_day_exposition</th>\n",
       "      <th>last_day_exposition</th>\n",
       "      <th>area</th>\n",
       "      <th>living_area</th>\n",
       "      <th>last_price</th>\n",
       "      <th>open_plan</th>\n",
       "      <th>rooms</th>\n",
       "      <th>renovation</th>\n",
       "      <th>house_price_sqm_median</th>\n",
       "    </tr>\n",
       "  </thead>\n",
       "  <tbody>\n",
       "    <tr>\n",
       "      <th>155497</th>\n",
       "      <td>2018-08-20T00:00:00+03:00</td>\n",
       "      <td>2018-08-20T00:00:00+03:00</td>\n",
       "      <td>67.0</td>\n",
       "      <td>NaN</td>\n",
       "      <td>30000.0</td>\n",
       "      <td>0</td>\n",
       "      <td>2</td>\n",
       "      <td>NaN</td>\n",
       "      <td>447.761194</td>\n",
       "    </tr>\n",
       "    <tr>\n",
       "      <th>155498</th>\n",
       "      <td>2018-08-20T00:00:00+03:00</td>\n",
       "      <td>2018-08-20T00:00:00+03:00</td>\n",
       "      <td>56.0</td>\n",
       "      <td>32.0</td>\n",
       "      <td>50000.0</td>\n",
       "      <td>0</td>\n",
       "      <td>2</td>\n",
       "      <td>NaN</td>\n",
       "      <td>892.857143</td>\n",
       "    </tr>\n",
       "    <tr>\n",
       "      <th>155499</th>\n",
       "      <td>2017-09-12T00:00:00+03:00</td>\n",
       "      <td>2018-08-20T00:00:00+03:00</td>\n",
       "      <td>46.0</td>\n",
       "      <td>25.0</td>\n",
       "      <td>55000.0</td>\n",
       "      <td>0</td>\n",
       "      <td>2</td>\n",
       "      <td>11.0</td>\n",
       "      <td>1195.652174</td>\n",
       "    </tr>\n",
       "  </tbody>\n",
       "</table>\n",
       "</div>"
      ],
      "text/plain": [
       "             first_day_exposition        last_day_exposition  area  living_area  last_price  open_plan  rooms  renovation  house_price_sqm_median\n",
       "155497  2018-08-20T00:00:00+03:00  2018-08-20T00:00:00+03:00  67.0          NaN     30000.0          0      2         NaN              447.761194\n",
       "155498  2018-08-20T00:00:00+03:00  2018-08-20T00:00:00+03:00  56.0         32.0     50000.0          0      2         NaN              892.857143\n",
       "155499  2017-09-12T00:00:00+03:00  2018-08-20T00:00:00+03:00  46.0         25.0     55000.0          0      2        11.0             1195.652174"
      ]
     },
     "execution_count": 6,
     "metadata": {},
     "output_type": "execute_result"
    }
   ],
   "source": [
    "rent_df_cleaned.tail(3)"
   ]
  },
  {
   "cell_type": "code",
   "execution_count": 7,
   "metadata": {
    "scrolled": true,
    "tags": []
   },
   "outputs": [
    {
     "data": {
      "text/html": [
       "<div>\n",
       "<style scoped>\n",
       "    .dataframe tbody tr th:only-of-type {\n",
       "        vertical-align: middle;\n",
       "    }\n",
       "\n",
       "    .dataframe tbody tr th {\n",
       "        vertical-align: top;\n",
       "    }\n",
       "\n",
       "    .dataframe thead th {\n",
       "        text-align: right;\n",
       "    }\n",
       "</style>\n",
       "<table border=\"1\" class=\"dataframe\">\n",
       "  <thead>\n",
       "    <tr style=\"text-align: right;\">\n",
       "      <th></th>\n",
       "      <th>area</th>\n",
       "      <th>living_area</th>\n",
       "      <th>last_price</th>\n",
       "      <th>open_plan</th>\n",
       "      <th>rooms</th>\n",
       "      <th>renovation</th>\n",
       "      <th>house_price_sqm_median</th>\n",
       "    </tr>\n",
       "  </thead>\n",
       "  <tbody>\n",
       "    <tr>\n",
       "      <th>count</th>\n",
       "      <td>155500.000000</td>\n",
       "      <td>123106.000000</td>\n",
       "      <td>155500.000000</td>\n",
       "      <td>155500.000000</td>\n",
       "      <td>155500.000000</td>\n",
       "      <td>102751.000000</td>\n",
       "      <td>155500.000000</td>\n",
       "    </tr>\n",
       "    <tr>\n",
       "      <th>mean</th>\n",
       "      <td>53.388608</td>\n",
       "      <td>30.423321</td>\n",
       "      <td>31879.141505</td>\n",
       "      <td>0.000051</td>\n",
       "      <td>1.600071</td>\n",
       "      <td>3.696937</td>\n",
       "      <td>588.502449</td>\n",
       "    </tr>\n",
       "    <tr>\n",
       "      <th>std</th>\n",
       "      <td>24.134163</td>\n",
       "      <td>17.410504</td>\n",
       "      <td>20301.276025</td>\n",
       "      <td>0.007172</td>\n",
       "      <td>0.873182</td>\n",
       "      <td>4.489422</td>\n",
       "      <td>151.986949</td>\n",
       "    </tr>\n",
       "    <tr>\n",
       "      <th>min</th>\n",
       "      <td>11.000000</td>\n",
       "      <td>2.000000</td>\n",
       "      <td>130.000000</td>\n",
       "      <td>0.000000</td>\n",
       "      <td>0.000000</td>\n",
       "      <td>0.000000</td>\n",
       "      <td>76.923077</td>\n",
       "    </tr>\n",
       "    <tr>\n",
       "      <th>25%</th>\n",
       "      <td>38.000000</td>\n",
       "      <td>18.000000</td>\n",
       "      <td>20000.000000</td>\n",
       "      <td>0.000000</td>\n",
       "      <td>1.000000</td>\n",
       "      <td>0.000000</td>\n",
       "      <td>500.000000</td>\n",
       "    </tr>\n",
       "    <tr>\n",
       "      <th>50%</th>\n",
       "      <td>46.000000</td>\n",
       "      <td>27.000000</td>\n",
       "      <td>25000.000000</td>\n",
       "      <td>0.000000</td>\n",
       "      <td>1.000000</td>\n",
       "      <td>1.000000</td>\n",
       "      <td>552.631579</td>\n",
       "    </tr>\n",
       "    <tr>\n",
       "      <th>75%</th>\n",
       "      <td>62.000000</td>\n",
       "      <td>37.000000</td>\n",
       "      <td>35000.000000</td>\n",
       "      <td>0.000000</td>\n",
       "      <td>2.000000</td>\n",
       "      <td>10.000000</td>\n",
       "      <td>640.476190</td>\n",
       "    </tr>\n",
       "    <tr>\n",
       "      <th>max</th>\n",
       "      <td>200.000000</td>\n",
       "      <td>2015.000000</td>\n",
       "      <td>199000.000000</td>\n",
       "      <td>1.000000</td>\n",
       "      <td>5.000000</td>\n",
       "      <td>11.000000</td>\n",
       "      <td>2467.532468</td>\n",
       "    </tr>\n",
       "  </tbody>\n",
       "</table>\n",
       "</div>"
      ],
      "text/plain": [
       "                area    living_area     last_price      open_plan          rooms     renovation  house_price_sqm_median\n",
       "count  155500.000000  123106.000000  155500.000000  155500.000000  155500.000000  102751.000000           155500.000000\n",
       "mean       53.388608      30.423321   31879.141505       0.000051       1.600071       3.696937              588.502449\n",
       "std        24.134163      17.410504   20301.276025       0.007172       0.873182       4.489422              151.986949\n",
       "min        11.000000       2.000000     130.000000       0.000000       0.000000       0.000000               76.923077\n",
       "25%        38.000000      18.000000   20000.000000       0.000000       1.000000       0.000000              500.000000\n",
       "50%        46.000000      27.000000   25000.000000       0.000000       1.000000       1.000000              552.631579\n",
       "75%        62.000000      37.000000   35000.000000       0.000000       2.000000      10.000000              640.476190\n",
       "max       200.000000    2015.000000  199000.000000       1.000000       5.000000      11.000000             2467.532468"
      ]
     },
     "execution_count": 7,
     "metadata": {},
     "output_type": "execute_result"
    }
   ],
   "source": [
    "rent_df_cleaned.describe()"
   ]
  },
  {
   "cell_type": "markdown",
   "metadata": {},
   "source": [
    "### 2. Data Transformation"
   ]
  },
  {
   "cell_type": "code",
   "execution_count": 8,
   "metadata": {
    "tags": []
   },
   "outputs": [
    {
     "data": {
      "text/html": [
       "<style type=\"text/css\">\n",
       "#T_edc9c_row0_col0, #T_edc9c_row1_col0, #T_edc9c_row2_col0, #T_edc9c_row4_col0, #T_edc9c_row5_col0, #T_edc9c_row6_col0, #T_edc9c_row8_col0 {\n",
       "  width: 10em;\n",
       "}\n",
       "#T_edc9c_row3_col0 {\n",
       "  width: 10em;\n",
       "  background: linear-gradient(90deg, #d65f5f 20.8%, transparent 20.8%);\n",
       "}\n",
       "#T_edc9c_row7_col0 {\n",
       "  width: 10em;\n",
       "  background: linear-gradient(90deg, #d65f5f 33.9%, transparent 33.9%);\n",
       "}\n",
       "</style>\n",
       "<table id=\"T_edc9c\">\n",
       "  <thead>\n",
       "    <tr>\n",
       "      <th class=\"blank level0\" >&nbsp;</th>\n",
       "      <th id=\"T_edc9c_level0_col0\" class=\"col_heading level0 col0\" >percent of NA</th>\n",
       "    </tr>\n",
       "  </thead>\n",
       "  <tbody>\n",
       "    <tr>\n",
       "      <th id=\"T_edc9c_level0_row0\" class=\"row_heading level0 row0\" >first_day_exposition</th>\n",
       "      <td id=\"T_edc9c_row0_col0\" class=\"data row0 col0\" >0.00%</td>\n",
       "    </tr>\n",
       "    <tr>\n",
       "      <th id=\"T_edc9c_level0_row1\" class=\"row_heading level0 row1\" >last_day_exposition</th>\n",
       "      <td id=\"T_edc9c_row1_col0\" class=\"data row1 col0\" >0.00%</td>\n",
       "    </tr>\n",
       "    <tr>\n",
       "      <th id=\"T_edc9c_level0_row2\" class=\"row_heading level0 row2\" >area</th>\n",
       "      <td id=\"T_edc9c_row2_col0\" class=\"data row2 col0\" >0.00%</td>\n",
       "    </tr>\n",
       "    <tr>\n",
       "      <th id=\"T_edc9c_level0_row3\" class=\"row_heading level0 row3\" >living_area</th>\n",
       "      <td id=\"T_edc9c_row3_col0\" class=\"data row3 col0\" >20.83%</td>\n",
       "    </tr>\n",
       "    <tr>\n",
       "      <th id=\"T_edc9c_level0_row4\" class=\"row_heading level0 row4\" >last_price</th>\n",
       "      <td id=\"T_edc9c_row4_col0\" class=\"data row4 col0\" >0.00%</td>\n",
       "    </tr>\n",
       "    <tr>\n",
       "      <th id=\"T_edc9c_level0_row5\" class=\"row_heading level0 row5\" >open_plan</th>\n",
       "      <td id=\"T_edc9c_row5_col0\" class=\"data row5 col0\" >0.00%</td>\n",
       "    </tr>\n",
       "    <tr>\n",
       "      <th id=\"T_edc9c_level0_row6\" class=\"row_heading level0 row6\" >rooms</th>\n",
       "      <td id=\"T_edc9c_row6_col0\" class=\"data row6 col0\" >0.00%</td>\n",
       "    </tr>\n",
       "    <tr>\n",
       "      <th id=\"T_edc9c_level0_row7\" class=\"row_heading level0 row7\" >renovation</th>\n",
       "      <td id=\"T_edc9c_row7_col0\" class=\"data row7 col0\" >33.92%</td>\n",
       "    </tr>\n",
       "    <tr>\n",
       "      <th id=\"T_edc9c_level0_row8\" class=\"row_heading level0 row8\" >house_price_sqm_median</th>\n",
       "      <td id=\"T_edc9c_row8_col0\" class=\"data row8 col0\" >0.00%</td>\n",
       "    </tr>\n",
       "  </tbody>\n",
       "</table>\n"
      ],
      "text/plain": [
       "<pandas.io.formats.style.Styler at 0x7f8bc4697910>"
      ]
     },
     "execution_count": 8,
     "metadata": {},
     "output_type": "execute_result"
    }
   ],
   "source": [
    "(rent_df_cleaned.isna().sum() / len(rent_df_cleaned)).rename('percent of NA').to_frame().style.bar(vmax=1, vmin=0).format('{:.2%}')"
   ]
  },
  {
   "cell_type": "code",
   "execution_count": 9,
   "metadata": {
    "tags": []
   },
   "outputs": [
    {
     "data": {
      "text/plain": [
       "0.0     50225\n",
       "3.0     16422\n",
       "11.0    14088\n",
       "10.0    13885\n",
       "7.0      3885\n",
       "1.0      3126\n",
       "6.0       699\n",
       "8.0       226\n",
       "2.0       162\n",
       "4.0        32\n",
       "5.0         1\n",
       "Name: renovation, dtype: int64"
      ]
     },
     "execution_count": 9,
     "metadata": {},
     "output_type": "execute_result"
    }
   ],
   "source": [
    "rent_df_cleaned.renovation.value_counts()"
   ]
  },
  {
   "cell_type": "code",
   "execution_count": 10,
   "metadata": {
    "tags": []
   },
   "outputs": [
    {
     "data": {
      "text/plain": [
       "<AxesSubplot: >"
      ]
     },
     "execution_count": 10,
     "metadata": {},
     "output_type": "execute_result"
    },
    {
     "data": {
      "image/png": "[encoded data removed]",
      "text/plain": [
       "<Figure size 640x480 with 2 Axes>"
      ]
     },
     "metadata": {},
     "output_type": "display_data"
    }
   ],
   "source": [
    "sns.heatmap(rent_df_cleaned.corr())"
   ]
  },
  {
   "cell_type": "code",
   "execution_count": 11,
   "metadata": {
    "tags": []
   },
   "outputs": [],
   "source": [
    "median_living_area = rent_df_cleaned.groupby('area')['living_area'].median()\n",
    "\n",
    "rent_df_cleaned['living_area'] = rent_df_cleaned.apply(\n",
    "    lambda row: median_living_area[row['area']] if np.isnan(row['living_area']) else row['living_area'],\n",
    "    axis=1\n",
    ")"
   ]
  },
  {
   "cell_type": "code",
   "execution_count": 12,
   "metadata": {
    "tags": []
   },
   "outputs": [
    {
     "data": {
      "text/html": [
       "<style type=\"text/css\">\n",
       "#T_49380_row0_col0, #T_49380_row1_col0, #T_49380_row2_col0, #T_49380_row4_col0, #T_49380_row5_col0, #T_49380_row6_col0, #T_49380_row8_col0 {\n",
       "  width: 10em;\n",
       "}\n",
       "#T_49380_row3_col0 {\n",
       "  width: 10em;\n",
       "  background: linear-gradient(90deg, #d65f5f 0.0%, transparent 0.0%);\n",
       "}\n",
       "#T_49380_row7_col0 {\n",
       "  width: 10em;\n",
       "  background: linear-gradient(90deg, #d65f5f 33.9%, transparent 33.9%);\n",
       "}\n",
       "</style>\n",
       "<table id=\"T_49380\">\n",
       "  <thead>\n",
       "    <tr>\n",
       "      <th class=\"blank level0\" >&nbsp;</th>\n",
       "      <th id=\"T_49380_level0_col0\" class=\"col_heading level0 col0\" >percent of NA</th>\n",
       "    </tr>\n",
       "  </thead>\n",
       "  <tbody>\n",
       "    <tr>\n",
       "      <th id=\"T_49380_level0_row0\" class=\"row_heading level0 row0\" >first_day_exposition</th>\n",
       "      <td id=\"T_49380_row0_col0\" class=\"data row0 col0\" >0.00%</td>\n",
       "    </tr>\n",
       "    <tr>\n",
       "      <th id=\"T_49380_level0_row1\" class=\"row_heading level0 row1\" >last_day_exposition</th>\n",
       "      <td id=\"T_49380_row1_col0\" class=\"data row1 col0\" >0.00%</td>\n",
       "    </tr>\n",
       "    <tr>\n",
       "      <th id=\"T_49380_level0_row2\" class=\"row_heading level0 row2\" >area</th>\n",
       "      <td id=\"T_49380_row2_col0\" class=\"data row2 col0\" >0.00%</td>\n",
       "    </tr>\n",
       "    <tr>\n",
       "      <th id=\"T_49380_level0_row3\" class=\"row_heading level0 row3\" >living_area</th>\n",
       "      <td id=\"T_49380_row3_col0\" class=\"data row3 col0\" >0.03%</td>\n",
       "    </tr>\n",
       "    <tr>\n",
       "      <th id=\"T_49380_level0_row4\" class=\"row_heading level0 row4\" >last_price</th>\n",
       "      <td id=\"T_49380_row4_col0\" class=\"data row4 col0\" >0.00%</td>\n",
       "    </tr>\n",
       "    <tr>\n",
       "      <th id=\"T_49380_level0_row5\" class=\"row_heading level0 row5\" >open_plan</th>\n",
       "      <td id=\"T_49380_row5_col0\" class=\"data row5 col0\" >0.00%</td>\n",
       "    </tr>\n",
       "    <tr>\n",
       "      <th id=\"T_49380_level0_row6\" class=\"row_heading level0 row6\" >rooms</th>\n",
       "      <td id=\"T_49380_row6_col0\" class=\"data row6 col0\" >0.00%</td>\n",
       "    </tr>\n",
       "    <tr>\n",
       "      <th id=\"T_49380_level0_row7\" class=\"row_heading level0 row7\" >renovation</th>\n",
       "      <td id=\"T_49380_row7_col0\" class=\"data row7 col0\" >33.92%</td>\n",
       "    </tr>\n",
       "    <tr>\n",
       "      <th id=\"T_49380_level0_row8\" class=\"row_heading level0 row8\" >house_price_sqm_median</th>\n",
       "      <td id=\"T_49380_row8_col0\" class=\"data row8 col0\" >0.00%</td>\n",
       "    </tr>\n",
       "  </tbody>\n",
       "</table>\n"
      ],
      "text/plain": [
       "<pandas.io.formats.style.Styler at 0x7f8b9f7d57b0>"
      ]
     },
     "execution_count": 12,
     "metadata": {},
     "output_type": "execute_result"
    }
   ],
   "source": [
    "(rent_df_cleaned.isna().sum() / len(rent_df_cleaned)).rename('percent of NA').to_frame().style.bar(vmax=1, vmin=0).format('{:.2%}')"
   ]
  },
  {
   "cell_type": "code",
   "execution_count": 13,
   "metadata": {
    "tags": []
   },
   "outputs": [
    {
     "data": {
      "text/plain": [
       "renovation\n",
       "0.0      30000.0\n",
       "1.0      45000.0\n",
       "2.0      21750.0\n",
       "3.0      20000.0\n",
       "4.0      17950.0\n",
       "5.0     110000.0\n",
       "6.0      21000.0\n",
       "7.0      21000.0\n",
       "8.0      19000.0\n",
       "10.0     25000.0\n",
       "11.0     22000.0\n",
       "Name: last_price, dtype: float64"
      ]
     },
     "execution_count": 13,
     "metadata": {},
     "output_type": "execute_result"
    }
   ],
   "source": [
    "rent_df_cleaned.groupby('renovation')['last_price'].median()"
   ]
  },
  {
   "cell_type": "markdown",
   "metadata": {},
   "source": [
    "It looks like it has no effect or a very little to i final price of a falt. Besdies, it makes sense, that price o a flat is mainly defined of the apartment look itself, not the house. So, let's drop the column and mainly focus on `area`, `living_area`, `rooms`, `open_plan`, `house_price_sqm_median` and `days_published`"
   ]
  },
  {
   "cell_type": "code",
   "execution_count": 14,
   "metadata": {
    "tags": []
   },
   "outputs": [],
   "source": [
    "rent_df_cleaned.drop(columns='renovation', inplace=True)\n",
    "rent_df_cleaned = rent_df_cleaned.dropna(subset=['living_area'])"
   ]
  },
  {
   "cell_type": "code",
   "execution_count": 15,
   "metadata": {
    "tags": []
   },
   "outputs": [
    {
     "data": {
      "text/html": [
       "<style type=\"text/css\">\n",
       "#T_a0689_row0_col0, #T_a0689_row1_col0, #T_a0689_row2_col0, #T_a0689_row3_col0, #T_a0689_row4_col0, #T_a0689_row5_col0, #T_a0689_row6_col0, #T_a0689_row7_col0 {\n",
       "  width: 10em;\n",
       "}\n",
       "</style>\n",
       "<table id=\"T_a0689\">\n",
       "  <thead>\n",
       "    <tr>\n",
       "      <th class=\"blank level0\" >&nbsp;</th>\n",
       "      <th id=\"T_a0689_level0_col0\" class=\"col_heading level0 col0\" >percent of NA</th>\n",
       "    </tr>\n",
       "  </thead>\n",
       "  <tbody>\n",
       "    <tr>\n",
       "      <th id=\"T_a0689_level0_row0\" class=\"row_heading level0 row0\" >first_day_exposition</th>\n",
       "      <td id=\"T_a0689_row0_col0\" class=\"data row0 col0\" >0.00%</td>\n",
       "    </tr>\n",
       "    <tr>\n",
       "      <th id=\"T_a0689_level0_row1\" class=\"row_heading level0 row1\" >last_day_exposition</th>\n",
       "      <td id=\"T_a0689_row1_col0\" class=\"data row1 col0\" >0.00%</td>\n",
       "    </tr>\n",
       "    <tr>\n",
       "      <th id=\"T_a0689_level0_row2\" class=\"row_heading level0 row2\" >area</th>\n",
       "      <td id=\"T_a0689_row2_col0\" class=\"data row2 col0\" >0.00%</td>\n",
       "    </tr>\n",
       "    <tr>\n",
       "      <th id=\"T_a0689_level0_row3\" class=\"row_heading level0 row3\" >living_area</th>\n",
       "      <td id=\"T_a0689_row3_col0\" class=\"data row3 col0\" >0.00%</td>\n",
       "    </tr>\n",
       "    <tr>\n",
       "      <th id=\"T_a0689_level0_row4\" class=\"row_heading level0 row4\" >last_price</th>\n",
       "      <td id=\"T_a0689_row4_col0\" class=\"data row4 col0\" >0.00%</td>\n",
       "    </tr>\n",
       "    <tr>\n",
       "      <th id=\"T_a0689_level0_row5\" class=\"row_heading level0 row5\" >open_plan</th>\n",
       "      <td id=\"T_a0689_row5_col0\" class=\"data row5 col0\" >0.00%</td>\n",
       "    </tr>\n",
       "    <tr>\n",
       "      <th id=\"T_a0689_level0_row6\" class=\"row_heading level0 row6\" >rooms</th>\n",
       "      <td id=\"T_a0689_row6_col0\" class=\"data row6 col0\" >0.00%</td>\n",
       "    </tr>\n",
       "    <tr>\n",
       "      <th id=\"T_a0689_level0_row7\" class=\"row_heading level0 row7\" >house_price_sqm_median</th>\n",
       "      <td id=\"T_a0689_row7_col0\" class=\"data row7 col0\" >0.00%</td>\n",
       "    </tr>\n",
       "  </tbody>\n",
       "</table>\n"
      ],
      "text/plain": [
       "<pandas.io.formats.style.Styler at 0x7f8bc4697eb0>"
      ]
     },
     "execution_count": 15,
     "metadata": {},
     "output_type": "execute_result"
    }
   ],
   "source": [
    "(rent_df_cleaned.isna().sum() / len(rent_df_cleaned)).rename('percent of NA').to_frame().style.bar(vmax=1, vmin=0).format('{:.2%}')"
   ]
  },
  {
   "cell_type": "code",
   "execution_count": 16,
   "metadata": {
    "tags": []
   },
   "outputs": [],
   "source": [
    "rent_df_cleaned.first_day_exposition = pd.to_datetime(rent_df_cleaned.first_day_exposition)\n",
    "rent_df_cleaned.last_day_exposition = pd.to_datetime(rent_df_cleaned.last_day_exposition)"
   ]
  },
  {
   "cell_type": "code",
   "execution_count": 17,
   "metadata": {
    "scrolled": true,
    "tags": []
   },
   "outputs": [
    {
     "name": "stdout",
     "output_type": "stream",
     "text": [
      "<class 'pandas.core.frame.DataFrame'>\n",
      "Int64Index: 155455 entries, 0 to 155499\n",
      "Data columns (total 8 columns):\n",
      " #   Column                  Non-Null Count   Dtype                                \n",
      "---  ------                  --------------   -----                                \n",
      " 0   first_day_exposition    155455 non-null  datetime64[ns, pytz.FixedOffset(180)]\n",
      " 1   last_day_exposition     155455 non-null  datetime64[ns, pytz.FixedOffset(180)]\n",
      " 2   area                    155455 non-null  float64                              \n",
      " 3   living_area             155455 non-null  float64                              \n",
      " 4   last_price              155455 non-null  float64                              \n",
      " 5   open_plan               155455 non-null  int64                                \n",
      " 6   rooms                   155455 non-null  int64                                \n",
      " 7   house_price_sqm_median  155455 non-null  float64                              \n",
      "dtypes: datetime64[ns, pytz.FixedOffset(180)](2), float64(4), int64(2)\n",
      "memory usage: 10.7 MB\n"
     ]
    }
   ],
   "source": [
    "rent_df_cleaned.info()"
   ]
  },
  {
   "cell_type": "code",
   "execution_count": 18,
   "metadata": {
    "tags": []
   },
   "outputs": [],
   "source": [
    "rent_df_cleaned['days_published'] = (rent_df_cleaned['last_day_exposition'] - rent_df_cleaned['first_day_exposition']).dt.days"
   ]
  },
  {
   "cell_type": "code",
   "execution_count": 19,
   "metadata": {
    "tags": []
   },
   "outputs": [
    {
     "data": {
      "text/html": [
       "<div>\n",
       "<style scoped>\n",
       "    .dataframe tbody tr th:only-of-type {\n",
       "        vertical-align: middle;\n",
       "    }\n",
       "\n",
       "    .dataframe tbody tr th {\n",
       "        vertical-align: top;\n",
       "    }\n",
       "\n",
       "    .dataframe thead th {\n",
       "        text-align: right;\n",
       "    }\n",
       "</style>\n",
       "<table border=\"1\" class=\"dataframe\">\n",
       "  <thead>\n",
       "    <tr style=\"text-align: right;\">\n",
       "      <th></th>\n",
       "      <th>first_day_exposition</th>\n",
       "      <th>last_day_exposition</th>\n",
       "      <th>area</th>\n",
       "      <th>living_area</th>\n",
       "      <th>last_price</th>\n",
       "      <th>open_plan</th>\n",
       "      <th>rooms</th>\n",
       "      <th>house_price_sqm_median</th>\n",
       "      <th>days_published</th>\n",
       "    </tr>\n",
       "  </thead>\n",
       "  <tbody>\n",
       "    <tr>\n",
       "      <th>0</th>\n",
       "      <td>2015-01-24 00:00:00+03:00</td>\n",
       "      <td>2016-01-19 00:00:00+03:00</td>\n",
       "      <td>28.0</td>\n",
       "      <td>20.0</td>\n",
       "      <td>20000.0</td>\n",
       "      <td>0</td>\n",
       "      <td>1</td>\n",
       "      <td>512.820513</td>\n",
       "      <td>360</td>\n",
       "    </tr>\n",
       "    <tr>\n",
       "      <th>1</th>\n",
       "      <td>2015-11-17 00:00:00+03:00</td>\n",
       "      <td>2016-03-04 00:00:00+03:00</td>\n",
       "      <td>59.0</td>\n",
       "      <td>35.0</td>\n",
       "      <td>24000.0</td>\n",
       "      <td>0</td>\n",
       "      <td>2</td>\n",
       "      <td>512.820513</td>\n",
       "      <td>108</td>\n",
       "    </tr>\n",
       "    <tr>\n",
       "      <th>2</th>\n",
       "      <td>2015-11-17 00:00:00+03:00</td>\n",
       "      <td>2016-04-24 00:00:00+03:00</td>\n",
       "      <td>36.0</td>\n",
       "      <td>17.0</td>\n",
       "      <td>18000.0</td>\n",
       "      <td>0</td>\n",
       "      <td>1</td>\n",
       "      <td>512.820513</td>\n",
       "      <td>159</td>\n",
       "    </tr>\n",
       "    <tr>\n",
       "      <th>3</th>\n",
       "      <td>2016-02-04 00:00:00+03:00</td>\n",
       "      <td>2016-02-28 00:00:00+03:00</td>\n",
       "      <td>39.0</td>\n",
       "      <td>18.0</td>\n",
       "      <td>18000.0</td>\n",
       "      <td>0</td>\n",
       "      <td>1</td>\n",
       "      <td>512.820513</td>\n",
       "      <td>24</td>\n",
       "    </tr>\n",
       "    <tr>\n",
       "      <th>4</th>\n",
       "      <td>2016-02-28 00:00:00+03:00</td>\n",
       "      <td>2016-04-02 00:00:00+03:00</td>\n",
       "      <td>36.0</td>\n",
       "      <td>18.0</td>\n",
       "      <td>19000.0</td>\n",
       "      <td>0</td>\n",
       "      <td>1</td>\n",
       "      <td>512.820513</td>\n",
       "      <td>34</td>\n",
       "    </tr>\n",
       "  </tbody>\n",
       "</table>\n",
       "</div>"
      ],
      "text/plain": [
       "       first_day_exposition       last_day_exposition  area  living_area  last_price  open_plan  rooms  house_price_sqm_median  days_published\n",
       "0 2015-01-24 00:00:00+03:00 2016-01-19 00:00:00+03:00  28.0         20.0     20000.0          0      1              512.820513             360\n",
       "1 2015-11-17 00:00:00+03:00 2016-03-04 00:00:00+03:00  59.0         35.0     24000.0          0      2              512.820513             108\n",
       "2 2015-11-17 00:00:00+03:00 2016-04-24 00:00:00+03:00  36.0         17.0     18000.0          0      1              512.820513             159\n",
       "3 2016-02-04 00:00:00+03:00 2016-02-28 00:00:00+03:00  39.0         18.0     18000.0          0      1              512.820513              24\n",
       "4 2016-02-28 00:00:00+03:00 2016-04-02 00:00:00+03:00  36.0         18.0     19000.0          0      1              512.820513              34"
      ]
     },
     "execution_count": 19,
     "metadata": {},
     "output_type": "execute_result"
    }
   ],
   "source": [
    "rent_df_cleaned.head()"
   ]
  },
  {
   "cell_type": "code",
   "execution_count": 20,
   "metadata": {
    "tags": []
   },
   "outputs": [],
   "source": [
    "#renovation_encoded = pd.get_dummies(rent_df_cleaned, columns=['renovation','open_plan','rooms'])"
   ]
  },
  {
   "cell_type": "code",
   "execution_count": 21,
   "metadata": {
    "tags": []
   },
   "outputs": [],
   "source": [
    "#renovation_encoded.head(3)"
   ]
  },
  {
   "cell_type": "code",
   "execution_count": 22,
   "metadata": {
    "tags": []
   },
   "outputs": [],
   "source": [
    "rent_df_cleaned.drop(columns=['first_day_exposition','last_day_exposition'], inplace=True)"
   ]
  },
  {
   "cell_type": "code",
   "execution_count": 23,
   "metadata": {
    "tags": []
   },
   "outputs": [
    {
     "data": {
      "text/html": [
       "<div>\n",
       "<style scoped>\n",
       "    .dataframe tbody tr th:only-of-type {\n",
       "        vertical-align: middle;\n",
       "    }\n",
       "\n",
       "    .dataframe tbody tr th {\n",
       "        vertical-align: top;\n",
       "    }\n",
       "\n",
       "    .dataframe thead th {\n",
       "        text-align: right;\n",
       "    }\n",
       "</style>\n",
       "<table border=\"1\" class=\"dataframe\">\n",
       "  <thead>\n",
       "    <tr style=\"text-align: right;\">\n",
       "      <th></th>\n",
       "      <th>area</th>\n",
       "      <th>living_area</th>\n",
       "      <th>last_price</th>\n",
       "      <th>open_plan</th>\n",
       "      <th>rooms</th>\n",
       "      <th>house_price_sqm_median</th>\n",
       "      <th>days_published</th>\n",
       "    </tr>\n",
       "  </thead>\n",
       "  <tbody>\n",
       "    <tr>\n",
       "      <th>155497</th>\n",
       "      <td>67.0</td>\n",
       "      <td>38.0</td>\n",
       "      <td>30000.0</td>\n",
       "      <td>0</td>\n",
       "      <td>2</td>\n",
       "      <td>447.761194</td>\n",
       "      <td>0</td>\n",
       "    </tr>\n",
       "    <tr>\n",
       "      <th>155498</th>\n",
       "      <td>56.0</td>\n",
       "      <td>32.0</td>\n",
       "      <td>50000.0</td>\n",
       "      <td>0</td>\n",
       "      <td>2</td>\n",
       "      <td>892.857143</td>\n",
       "      <td>0</td>\n",
       "    </tr>\n",
       "    <tr>\n",
       "      <th>155499</th>\n",
       "      <td>46.0</td>\n",
       "      <td>25.0</td>\n",
       "      <td>55000.0</td>\n",
       "      <td>0</td>\n",
       "      <td>2</td>\n",
       "      <td>1195.652174</td>\n",
       "      <td>342</td>\n",
       "    </tr>\n",
       "  </tbody>\n",
       "</table>\n",
       "</div>"
      ],
      "text/plain": [
       "        area  living_area  last_price  open_plan  rooms  house_price_sqm_median  days_published\n",
       "155497  67.0         38.0     30000.0          0      2              447.761194               0\n",
       "155498  56.0         32.0     50000.0          0      2              892.857143               0\n",
       "155499  46.0         25.0     55000.0          0      2             1195.652174             342"
      ]
     },
     "execution_count": 23,
     "metadata": {},
     "output_type": "execute_result"
    }
   ],
   "source": [
    "rent_df_cleaned.tail(3)"
   ]
  },
  {
   "cell_type": "code",
   "execution_count": 24,
   "metadata": {
    "tags": []
   },
   "outputs": [],
   "source": [
    "X = rent_df_cleaned.drop('last_price', axis=1)\n",
    "y = rent_df_cleaned['last_price']"
   ]
  },
  {
   "cell_type": "code",
   "execution_count": 25,
   "metadata": {
    "tags": []
   },
   "outputs": [],
   "source": [
    "# numerical_features = ['area', 'living_area', 'house_price_sqm_median', 'days_published']\n",
    "\n",
    "# scaler = StandardScaler()\n",
    "# \n",
    "# X[numerical_features] = scaler.fit_transform(X[numerical_features])\n",
    "# y = scaler.fit_transform(y.values.reshape(-1, 1))\n",
    "# "
   ]
  },
  {
   "cell_type": "code",
   "execution_count": 26,
   "metadata": {
    "tags": []
   },
   "outputs": [],
   "source": [
    "# Code from Nikitin\n",
    "\n",
    "# from sklearn.preprocessing import StandardScaler\n",
    "# sc_X = StandardScaler()\n",
    "# sc_y = StandardScaler()\n",
    "# \n",
    "# X_train = sc_X.fit_transform(X_train)\n",
    "# X_valid = sc_X.fit_transform(X_valid)\n",
    "# y_train = sc_y.fit_transform(y_train)\n",
    "# y_valid = sc_y.fit_transform(y_valid)"
   ]
  },
  {
   "cell_type": "markdown",
   "metadata": {},
   "source": [
    "### 3. Models"
   ]
  },
  {
   "cell_type": "code",
   "execution_count": 27,
   "metadata": {
    "tags": []
   },
   "outputs": [],
   "source": [
    "X_train, X_valid, y_train, y_valid = train_test_split(X, y, test_size=0.25, random_state=7)"
   ]
  },
  {
   "cell_type": "code",
   "execution_count": 28,
   "metadata": {
    "tags": []
   },
   "outputs": [],
   "source": [
    "# numerical_features_X = ['area', 'living_area', 'house_price_sqm_median', 'days_published', 'open_plan', 'rooms']\n",
    "# \n",
    "# scaler_X = StandardScaler()\n",
    "# scaler_y = StandardScaler()\n",
    "# \n",
    "# \n",
    "# X_train[numerical_features_X] = scaler_X.fit_transform(X_train[numerical_features_X])\n",
    "# X_valid[numerical_features_X] = scaler_X.fit_transform(X_valid[numerical_features_X])\n",
    "# \n",
    "# # Convert y_train to numpy array if it's not already\n",
    "# y_train = np.array(y_train).reshape(-1, 1)\n",
    "# y_valid = np.array(y_valid).reshape(-1, 1)\n",
    "# \n",
    "# y_train = scaler_y.fit_transform(y_train)\n",
    "# y_valid = scaler_y.fit_transform(y_valid)"
   ]
  },
  {
   "cell_type": "code",
   "execution_count": 29,
   "metadata": {},
   "outputs": [],
   "source": [
    "numerical_features_X = ['area', 'living_area', 'house_price_sqm_median', 'days_published']\n",
    "\n",
    "scaler_X = StandardScaler()\n",
    "scaler_y = StandardScaler()\n",
    "\n",
    "\n",
    "X_train[numerical_features_X] = scaler_X.fit_transform(X_train[numerical_features_X])\n",
    "X_valid[numerical_features_X] = scaler_X.fit_transform(X_valid[numerical_features_X])\n",
    "\n",
    "# Convert y_train to numpy array if it's not already\n",
    "y_train = np.array(y_train).reshape(-1, 1)\n",
    "y_valid = np.array(y_valid).reshape(-1, 1)\n",
    "\n",
    "y_train = scaler_y.fit_transform(y_train)\n",
    "y_valid = scaler_y.fit_transform(y_valid)"
   ]
  },
  {
   "cell_type": "code",
   "execution_count": 30,
   "metadata": {
    "tags": []
   },
   "outputs": [
    {
     "data": {
      "text/html": [
       "<div>\n",
       "<style scoped>\n",
       "    .dataframe tbody tr th:only-of-type {\n",
       "        vertical-align: middle;\n",
       "    }\n",
       "\n",
       "    .dataframe tbody tr th {\n",
       "        vertical-align: top;\n",
       "    }\n",
       "\n",
       "    .dataframe thead th {\n",
       "        text-align: right;\n",
       "    }\n",
       "</style>\n",
       "<table border=\"1\" class=\"dataframe\">\n",
       "  <thead>\n",
       "    <tr style=\"text-align: right;\">\n",
       "      <th></th>\n",
       "      <th>area</th>\n",
       "      <th>living_area</th>\n",
       "      <th>open_plan</th>\n",
       "      <th>rooms</th>\n",
       "      <th>house_price_sqm_median</th>\n",
       "      <th>days_published</th>\n",
       "    </tr>\n",
       "  </thead>\n",
       "  <tbody>\n",
       "    <tr>\n",
       "      <th>108631</th>\n",
       "      <td>-0.760770</td>\n",
       "      <td>-0.739272</td>\n",
       "      <td>0</td>\n",
       "      <td>1</td>\n",
       "      <td>-0.229468</td>\n",
       "      <td>-0.328856</td>\n",
       "    </tr>\n",
       "    <tr>\n",
       "      <th>33925</th>\n",
       "      <td>-0.182357</td>\n",
       "      <td>-0.615795</td>\n",
       "      <td>0</td>\n",
       "      <td>1</td>\n",
       "      <td>-0.252603</td>\n",
       "      <td>-0.499172</td>\n",
       "    </tr>\n",
       "  </tbody>\n",
       "</table>\n",
       "</div>"
      ],
      "text/plain": [
       "            area  living_area  open_plan  rooms  house_price_sqm_median  days_published\n",
       "108631 -0.760770    -0.739272          0      1               -0.229468       -0.328856\n",
       "33925  -0.182357    -0.615795          0      1               -0.252603       -0.499172"
      ]
     },
     "execution_count": 30,
     "metadata": {},
     "output_type": "execute_result"
    }
   ],
   "source": [
    "X_train.head(2)"
   ]
  },
  {
   "cell_type": "code",
   "execution_count": 31,
   "metadata": {
    "tags": []
   },
   "outputs": [
    {
     "data": {
      "text/plain": [
       "((116591, 6), (116591, 1))"
      ]
     },
     "execution_count": 31,
     "metadata": {},
     "output_type": "execute_result"
    }
   ],
   "source": [
    "X_train.shape, y_train.shape"
   ]
  },
  {
   "cell_type": "code",
   "execution_count": 32,
   "metadata": {
    "tags": []
   },
   "outputs": [],
   "source": [
    "# from sklearn.preprocessing import StandardScaler\n",
    "# \n",
    "# sc_X = StandardScaler()\n",
    "# sc_y = StandardScaler()\n",
    "# \n",
    "# # Fit and transform X data\n",
    "# X_train = sc_X.fit_transform(X_train)\n",
    "# X_valid = sc_X.transform(X_valid)  # Use transform instead of fit_transform for validation set\n",
    "# \n",
    "# # Reshape y data to be 2D\n",
    "# y_train = y_train.values.reshape(-1, 1)\n",
    "# y_valid = y_valid.values.reshape(-1, 1)\n",
    "# \n",
    "# # Fit and transform y data\n",
    "# y_train = sc_y.fit_transform(y_train)\n",
    "# y_valid = sc_y.transform(y_valid)  # Use transform instead of fit_transform for validation set"
   ]
  },
  {
   "cell_type": "markdown",
   "metadata": {},
   "source": [
    "#### Selection and Evaluation"
   ]
  },
  {
   "cell_type": "code",
   "execution_count": 33,
   "metadata": {
    "tags": []
   },
   "outputs": [
    {
     "name": "stdout",
     "output_type": "stream",
     "text": [
      "Linear Regression Mean Squared Error: 0.19925302821455984\n",
      "Linear Regression Mean Absolute Error: 0.2690522441641326\n",
      "Linear Regression R-squared: 0.8007469717854401\n",
      "\n",
      "\n",
      "Decision Tree Mean Squared Error: 0.3198592071668533\n",
      "Decision Tree Mean Absolute Error: 0.3304066612063723\n",
      "Decision Tree R-squared: 0.6801407928331467\n",
      "\n",
      "\n",
      "Random Forest Mean Squared Error: 0.16489024500186147\n",
      "Random Forest Mean Absolute Error: 0.23724069091133848\n",
      "Random Forest R-squared: 0.8351097549981384\n",
      "\n",
      "\n",
      "XGBoost Mean Squared Error: 0.15882925092888464\n",
      "XGBoost Mean Absolute Error: 0.22742585020275535\n",
      "XGBoost R-squared: 0.8411707490711153\n",
      "\n",
      "\n"
     ]
    }
   ],
   "source": [
    "from sklearn.linear_model import LinearRegression\n",
    "from sklearn.tree import DecisionTreeRegressor\n",
    "from sklearn.ensemble import RandomForestRegressor\n",
    "from xgboost import XGBRegressor\n",
    "from sklearn.metrics import mean_squared_error, mean_absolute_error, r2_score\n",
    "\n",
    "\n",
    "# Initialize models\n",
    "models = {\n",
    "    'Linear Regression': LinearRegression(),\n",
    "    'Decision Tree': DecisionTreeRegressor(random_state=7),\n",
    "    'Random Forest': RandomForestRegressor(random_state=7),\n",
    "    'XGBoost': XGBRegressor(random_state=7)\n",
    "}\n",
    "\n",
    "# Evaluate models with default hyperparameters\n",
    "for name, model in models.items():\n",
    "    model.fit(X_train, y_train)\n",
    "    y_pred = model.predict(X_valid)\n",
    "    mse = mean_squared_error(y_valid, y_pred)\n",
    "    mae = mean_absolute_error(y_valid, y_pred)\n",
    "    r2 = r2_score(y_valid, y_pred)\n",
    "    print(f'{name} Mean Squared Error: {mse}')\n",
    "    print(f'{name} Mean Absolute Error: {mae}')\n",
    "    print(f'{name} R-squared: {r2}\\n')\n",
    "    print()\n"
   ]
  },
  {
   "cell_type": "markdown",
   "metadata": {},
   "source": [
    "| Model             | Mean Squared Error (MSE) | Mean Absolute Error (MAE) | R-squared (R²) |\n",
    "|-------------------|--------------------------|---------------------------|----------------|\n",
    "| Linear Regression | 0.1980                   | 0.2692                    | 0.8007         |\n",
    "| Decision Tree     | 0.2895                   | 0.3122                    | 0.7087         |\n",
    "| Random Forest     | 0.1557                   | 0.2307                    | 0.8434         |\n",
    "| XGBoost           | 0.1557                   | 0.2260                    | 0.8433         |\n"
   ]
  },
  {
   "cell_type": "markdown",
   "metadata": {},
   "source": [
    "* `Random Forest` and `XGBoost` models show the lowest MSE and highest R², indicating they provide the best predictive performance and explain the most variance in the target variable (last_price).\n",
    "\n",
    "__`XGBoost`__ model will be used as a ML predictor of prices."
   ]
  },
  {
   "cell_type": "markdown",
   "metadata": {
    "tags": []
   },
   "source": [
    "#### Tuning Model [RandomizedSearchCV]"
   ]
  },
  {
   "cell_type": "code",
   "execution_count": 34,
   "metadata": {
    "tags": []
   },
   "outputs": [],
   "source": [
    "from scipy.stats import uniform\n",
    "\n",
    "param_dist_xgb = {\n",
    "    'n_estimators': [50, 100, 200, 300],\n",
    "    'learning_rate': uniform(0.01, 0.3),  # Uniform distribution between 0.01 and 0.31\n",
    "    'max_depth': [3, 4, 5, 6, 7, 8, 9, 10],\n",
    "    'subsample': uniform(0.6, 0.4),       # Uniform distribution between 0.6 and 1.0\n",
    "    'colsample_bytree': uniform(0.6, 0.4) # Uniform distribution between 0.6 and 1.0\n",
    "}\n"
   ]
  },
  {
   "cell_type": "code",
   "execution_count": 35,
   "metadata": {
    "tags": []
   },
   "outputs": [
    {
     "name": "stdout",
     "output_type": "stream",
     "text": [
      "Best XGBoost parameters: XGBRegressor(base_score=None, booster=None, callbacks=None,\n",
      "             colsample_bylevel=None, colsample_bynode=None,\n",
      "             colsample_bytree=0.900781424456883, device=None,\n",
      "             early_stopping_rounds=None, enable_categorical=False,\n",
      "             eval_metric=None, feature_types=None, gamma=None, grow_policy=None,\n",
      "             importance_type=None, interaction_constraints=None,\n",
      "             learning_rate=0.02849959905096059, max_bin=None,\n",
      "             max_cat_threshold=None, max_cat_to_onehot=None,\n",
      "             max_delta_step=None, max_depth=5, max_leaves=None,\n",
      "             min_child_weight=None, missing=nan, monotone_constraints=None,\n",
      "             multi_strategy=None, n_estimators=200, n_jobs=None,\n",
      "             num_parallel_tree=None, random_state=7, ...)\n"
     ]
    }
   ],
   "source": [
    "from sklearn.model_selection import RandomizedSearchCV\n",
    "from xgboost import XGBRegressor\n",
    "\n",
    "xgb_model = XGBRegressor(random_state=7)\n",
    "\n",
    "# Initialize RandomizedSearchCV\n",
    "random_search_xgb = RandomizedSearchCV(estimator=xgb_model, \n",
    "                                       param_distributions=param_dist_xgb, \n",
    "                                       n_iter=100, \n",
    "                                       cv=3, \n",
    "                                       scoring='neg_mean_squared_error', \n",
    "                                       n_jobs=-1, \n",
    "                                       random_state=7)\n",
    "\n",
    "random_search_xgb.fit(X_train, y_train)\n",
    "\n",
    "best_xgb = random_search_xgb.best_estimator_\n",
    "print(f'Best XGBoost parameters: {best_xgb}')"
   ]
  },
  {
   "cell_type": "code",
   "execution_count": 36,
   "metadata": {
    "tags": []
   },
   "outputs": [
    {
     "data": {
      "image/png": "[encoded data removed]",
      "text/plain": [
       "<Figure size 640x480 with 1 Axes>"
      ]
     },
     "metadata": {},
     "output_type": "display_data"
    }
   ],
   "source": [
    "import matplotlib.pyplot as plt\n",
    "import xgboost as xgb\n",
    "\n",
    "# Plot feature importance\n",
    "xgb.plot_importance(best_xgb, importance_type='weight')\n",
    "plt.show()"
   ]
  },
  {
   "cell_type": "markdown",
   "metadata": {},
   "source": [
    "What we see here is basically what features inluence the target variable the most: \n",
    "1. `area`, obviously, is the main condition to determine the price\n",
    "2. price of the sqm in the house also may help to indicate the location o the apartment in the city (closer to the center, more expensive it gets)\n",
    "3. living area is another regressor helping to understand, well, the living area (there also might be closets, balconies, etc.)\n",
    "4. days published and rooms has the least inluence"
   ]
  },
  {
   "cell_type": "code",
   "execution_count": 37,
   "metadata": {
    "tags": []
   },
   "outputs": [
    {
     "name": "stdout",
     "output_type": "stream",
     "text": [
      "XGBoost Mean Squared Error: 0.15448476066318395\n",
      "XGBoost Mean Absolute Error: 0.2246441019456237\n",
      "XGBoost R-squared: 0.845515239336816\n"
     ]
    }
   ],
   "source": [
    "best_xgb_model = XGBRegressor(**random_search_xgb.best_params_, random_state=7)\n",
    "\n",
    "# Fit the model on the training data\n",
    "best_xgb_model.fit(X_train, y_train)\n",
    "\n",
    "# Predict on the test set\n",
    "y_pred = best_xgb_model.predict(X_valid)\n",
    "\n",
    "# Evaluate the model\n",
    "mse = mean_squared_error(y_valid, y_pred)\n",
    "mae = mean_absolute_error(y_valid, y_pred)\n",
    "r2 = r2_score(y_valid, y_pred)\n",
    "\n",
    "print(f'XGBoost Mean Squared Error: {mse}')\n",
    "print(f'XGBoost Mean Absolute Error: {mae}')\n",
    "print(f'XGBoost R-squared: {r2}')"
   ]
  },
  {
   "cell_type": "markdown",
   "metadata": {},
   "source": [
    "---\n",
    "The tuning slightly improved the model and evaluation metrics."
   ]
  },
  {
   "cell_type": "code",
   "execution_count": 44,
   "metadata": {
    "tags": []
   },
   "outputs": [
    {
     "name": "stdout",
     "output_type": "stream",
     "text": [
      "Cross-Validation Mean Squared Error: 0.15519510200194087\n"
     ]
    }
   ],
   "source": [
    "from sklearn.model_selection import cross_val_score\n",
    "\n",
    "# Function to scale the y data within cross-validation\n",
    "def scale_y_within_cv(estimator, X, y):\n",
    "    y_scaled = scaler_y.fit_transform(y.reshape(-1, 1)).ravel()\n",
    "    return cross_val_score(estimator, X, y_scaled, cv=5, scoring='neg_mean_squared_error')\n",
    "\n",
    "# Perform cross-validation\n",
    "cv_scores = scale_y_within_cv(xgb_model, X, y.values)\n",
    "cv_mse_scores = -cv_scores  # Convert scores back to positive MSE values\n",
    "\n",
    "print(f'Cross-Validation Mean Squared Error: {cv_mse_scores.mean()}')\n"
   ]
  },
  {
   "cell_type": "code",
   "execution_count": 39,
   "metadata": {
    "tags": []
   },
   "outputs": [
    {
     "data": {
      "image/png": "[encoded data removed]",
      "text/plain": [
       "<Figure size 1000x600 with 1 Axes>"
      ]
     },
     "metadata": {},
     "output_type": "display_data"
    }
   ],
   "source": [
    "from sklearn.model_selection import learning_curve\n",
    "\n",
    "# Define your XGBRegressor and parameters\n",
    "xgb_model = XGBRegressor(**random_search_xgb.best_params_, random_state=7)\n",
    "\n",
    "# Use learning_curve to get train_sizes, train_scores, and test_scores\n",
    "train_sizes, train_scores, test_scores = learning_curve(xgb_model, \n",
    "                                                        X_train, \n",
    "                                                        y_train, \n",
    "                                                        cv=3, \n",
    "                                                        scoring='neg_mean_squared_error', \n",
    "                                                        train_sizes=np.linspace(0.1, 1.0, 10))\n",
    "\n",
    "# Calculate mean and standard deviation for training and validation scores\n",
    "train_scores_mean = -np.mean(train_scores, axis=1)\n",
    "train_scores_std = np.std(train_scores, axis=1)\n",
    "test_scores_mean = -np.mean(test_scores, axis=1)\n",
    "test_scores_std = np.std(test_scores, axis=1)\n",
    "\n",
    "# Plot learning curves\n",
    "plt.figure(figsize=(10, 6))\n",
    "plt.fill_between(train_sizes, train_scores_mean - train_scores_std, train_scores_mean + train_scores_std, alpha=0.1, color=\"r\")\n",
    "plt.fill_between(train_sizes, test_scores_mean - test_scores_std, test_scores_mean + test_scores_std, alpha=0.1, color=\"g\")\n",
    "plt.plot(train_sizes, train_scores_mean, 'o-', color=\"r\", label=\"Training Score\")\n",
    "plt.plot(train_sizes, test_scores_mean, 'o-', color=\"g\", label=\"Cross-validation Score\")\n",
    "plt.xlabel(\"Training examples\")\n",
    "plt.ylabel(\"Mean Squared Error\")\n",
    "plt.title(\"Learning Curves (XGBoost)\")\n",
    "plt.legend(loc=\"best\")\n",
    "plt.grid()\n",
    "plt.show()\n"
   ]
  },
  {
   "cell_type": "markdown",
   "metadata": {},
   "source": [
    "**Our model performs well is is not neither overfitted nor underfitted, amazing!**"
   ]
  },
  {
   "cell_type": "code",
   "execution_count": 40,
   "metadata": {
    "tags": []
   },
   "outputs": [
    {
     "data": {
      "image/png": "[encoded data removed]",
      "text/plain": [
       "<Figure size 1600x800 with 1 Axes>"
      ]
     },
     "metadata": {},
     "output_type": "display_data"
    }
   ],
   "source": [
    "plt.figure(figsize=(16, 8))\n",
    "plt.plot(scaler_y.inverse_transform(y_valid.reshape(-1, 1)), label='Valid', color='blue')\n",
    "plt.plot(scaler_y.inverse_transform(y_pred.reshape(-1, 1)), label='Predict', color='orange')\n",
    "plt.legend()\n",
    "plt.show()"
   ]
  },
  {
   "cell_type": "code",
   "execution_count": 41,
   "metadata": {},
   "outputs": [
    {
     "data": {
      "text/plain": [
       "['scaler_y.pkl']"
      ]
     },
     "execution_count": 41,
     "metadata": {},
     "output_type": "execute_result"
    }
   ],
   "source": [
    "import joblib\n",
    "\n",
    "model_file = 'model.pkl'\n",
    "joblib.dump(best_xgb_model, model_file)\n",
    "\n",
    "scaler_X_file = 'scaler_x.pkl'\n",
    "joblib.dump(scaler_X, scaler_X_file)\n",
    "\n",
    "scaler_y_file = 'scaler_y.pkl'\n",
    "joblib.dump(scaler_y, scaler_y_file)\n"
   ]
  },
  {
   "cell_type": "code",
   "execution_count": 48,
   "metadata": {
    "tags": []
   },
   "outputs": [
    {
     "name": "stdout",
     "output_type": "stream",
     "text": [
      "Prediction: 40415.9453125, True Value: 26019.757439051427\n",
      "Prediction: 19197.609375, True Value: 18997.74230500731\n",
      "Prediction: 37782.2890625, True Value: 30032.33751564807\n",
      "Prediction: 36463.41796875, True Value: 40063.787707139665\n",
      "Prediction: 17119.712890625, True Value: 14985.162228410667\n",
      "Prediction: 28402.69140625, True Value: 22007.177362454786\n",
      "Prediction: 24165.509765625, True Value: 24013.467400753107\n",
      "Prediction: 29206.2890625, True Value: 28026.047477349748\n",
      "Prediction: 25823.34375, True Value: 22007.177362454786\n",
      "Prediction: 49034.3125, True Value: 57117.25303267539\n",
      "Prediction: 21634.22265625, True Value: 22007.177362454786\n",
      "Prediction: 31157.904296875, True Value: 32038.627553946386\n",
      "Prediction: 25321.375, True Value: 23010.322381603946\n",
      "Prediction: 19322.4609375, True Value: 20000.887324156465\n",
      "Prediction: 23101.9453125, True Value: 28026.047477349748\n",
      "Prediction: 28825.216796875, True Value: 25016.612419902267\n",
      "Prediction: 26940.23046875, True Value: 28026.047477349748\n",
      "Prediction: 63189.265625, True Value: 73167.57333906196\n",
      "Prediction: 19407.076171875, True Value: 17994.597285858148\n",
      "Prediction: 37763.08984375, True Value: 35048.06261139387\n",
      "Prediction: 42015.9375, True Value: 25016.612419902267\n",
      "Prediction: 18808.9765625, True Value: 20000.887324156465\n",
      "Prediction: 18288.380859375, True Value: 22007.177362454786\n",
      "Prediction: 59211.26171875, True Value: 50095.23789863127\n",
      "Prediction: 39467.8359375, True Value: 60126.68809012287\n"
     ]
    }
   ],
   "source": [
    "xgb_model.fit(X_train, y_train)\n",
    "\n",
    "# Predict on the test set\n",
    "y_pred = xgb_model.predict(X_valid)\n",
    "\n",
    "# Reshape the predictions to a 2D array\n",
    "y_pred_reshaped = y_pred.reshape(-1, 1)\n",
    "\n",
    "# Inverse transform the scaled predictions to get them back to the original scale\n",
    "predictions = scaler_y.inverse_transform(y_pred_reshaped)\n",
    "\n",
    "# Reshape y_valid to a 2D array if it isn't already\n",
    "if y_valid.ndim == 1:\n",
    "    y_valid_reshaped = y_valid.reshape(-1, 1)\n",
    "else:\n",
    "    y_valid_reshaped = y_valid\n",
    "\n",
    "# Inverse transform the true values to get them back to the original scale\n",
    "true_values = scaler_y.inverse_transform(y_valid_reshaped)\n",
    "\n",
    "# Display the first 5 predictions and true values\n",
    "for pred, val in zip(predictions[5:30], true_values[5:30]):\n",
    "    print(f\"Prediction: {pred[0]}, True Value: {val[0]}\")\n"
   ]
  },
  {
   "cell_type": "code",
   "execution_count": null,
   "metadata": {},
   "outputs": [],
   "source": []
  }
 ],
 "metadata": {
  "kernelspec": {
   "display_name": "Python 3 (ipykernel)",
   "language": "python",
   "name": "python3"
  },
  "language_info": {
   "codemirror_mode": {
    "name": "ipython",
    "version": 3
   },
   "file_extension": ".py",
   "mimetype": "text/x-python",
   "name": "python",
   "nbconvert_exporter": "python",
   "pygments_lexer": "ipython3",
   "version": "3.10.8"
  },
  "varInspector": {
   "cols": {
    "lenName": 16,
    "lenType": 16,
    "lenVar": 40
   },
   "kernels_config": {
    "python": {
     "delete_cmd_postfix": "",
     "delete_cmd_prefix": "del ",
     "library": "var_list.py",
     "varRefreshCmd": "print(var_dic_list())"
    },
    "r": {
     "delete_cmd_postfix": ") ",
     "delete_cmd_prefix": "rm(",
     "library": "var_list.r",
     "varRefreshCmd": "cat(var_dic_list()) "
    }
   },
   "types_to_exclude": [
    "module",
    "function",
    "builtin_function_or_method",
    "instance",
    "_Feature"
   ],
   "window_display": false
  }
 },
 "nbformat": 4,
 "nbformat_minor": 4
}
