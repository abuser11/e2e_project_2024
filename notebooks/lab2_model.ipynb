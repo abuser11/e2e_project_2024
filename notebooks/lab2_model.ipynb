{
 "cells": [
  {
   "cell_type": "markdown",
   "metadata": {},
   "source": [
    "## Lab 1.3 - Predicting Real Estate Data in St. Petersburg\n",
    "We have data from Yandex.Realty classified https://realty.yandex.ru containing real estate listings for apartments in St. Petersburg and Leningrad Oblast from 2016 till the middle of August 2018. In this Lab you'll learn how to apply machine learning algorithms to solve business problems. Accurate price prediction can help to find fraudsters automatically and help Yandex.Realty users to make better decisions when buying and selling real estate.\n",
    "\n",
    "Using python with machine learning algotithms is the #1 option for prototyping solutions among data scientists today. We'll take a look at it in this lab.\n",
    "\n",
    "### Main objectives\n",
    "After successful completion of the lab work students will be able to:\n",
    "-\tApply machine learning for solving price prediction problem\n",
    "-   Calculate metrics which can help us find out whether our machine learning model is ready for production\n",
    "\n",
    "### Tasks\n",
    "-\tEncode dataset\n",
    "-\tSplit dataset to train and validation datasets\n",
    "-\tApply decision tree algorithm to build ML (machine learning) model for price predictions\n",
    "-   Calculate metrics\n",
    "-   Try other algorithms and factors to get a better solution \n"
   ]
  },
  {
   "cell_type": "markdown",
   "metadata": {},
   "source": [
    "### 1. Load data with real estate prices"
   ]
  },
  {
   "cell_type": "code",
   "execution_count": 48,
   "metadata": {
    "tags": []
   },
   "outputs": [],
   "source": [
    "import pandas as pd\n",
    "import numpy as np\n",
    "import seaborn as sns\n",
    "import scipy.stats as stats\n",
    "import matplotlib.style as style\n",
    "from matplotlib import pyplot as plt\n",
    "\n",
    "from sklearn.model_selection import GridSearchCV\n",
    "from sklearn.preprocessing import MinMaxScaler, StandardScaler\n",
    "from sklearn.model_selection import train_test_split, RandomizedSearchCV\n",
    "from sklearn.linear_model import LinearRegression\n",
    "from sklearn.ensemble import RandomForestRegressor\n",
    "from sklearn.tree import DecisionTreeRegressor\n",
    "from sklearn.tree import plot_tree\n",
    "from sklearn.metrics import mean_absolute_percentage_error as mape\n",
    "\n",
    "import xgboost as xgb\n",
    "import warnings\n",
    "warnings.filterwarnings(\"ignore\")\n",
    "\n",
    "pd.set_option('display.max_columns', 500)\n",
    "pd.set_option('display.width', 1000)\n",
    "pd.set_option('display.max_colwidth', 1000)\n",
    "style.use('fivethirtyeight')"
   ]
  },
  {
   "cell_type": "code",
   "execution_count": 49,
   "metadata": {
    "tags": []
   },
   "outputs": [],
   "source": [
    "rent_df_cleaned = pd.read_csv('cleaned_dataset.tsv', on_bad_lines='skip', sep='\\t')"
   ]
  },
  {
   "cell_type": "code",
   "execution_count": 50,
   "metadata": {
    "tags": []
   },
   "outputs": [
    {
     "data": {
      "text/html": [
       "<div>\n",
       "<style scoped>\n",
       "    .dataframe tbody tr th:only-of-type {\n",
       "        vertical-align: middle;\n",
       "    }\n",
       "\n",
       "    .dataframe tbody tr th {\n",
       "        vertical-align: top;\n",
       "    }\n",
       "\n",
       "    .dataframe thead th {\n",
       "        text-align: right;\n",
       "    }\n",
       "</style>\n",
       "<table border=\"1\" class=\"dataframe\">\n",
       "  <thead>\n",
       "    <tr style=\"text-align: right;\">\n",
       "      <th></th>\n",
       "      <th>offer_id</th>\n",
       "      <th>first_day_exposition</th>\n",
       "      <th>last_day_exposition</th>\n",
       "      <th>last_price</th>\n",
       "      <th>floor</th>\n",
       "      <th>open_plan</th>\n",
       "      <th>rooms</th>\n",
       "      <th>studio</th>\n",
       "      <th>area</th>\n",
       "      <th>kitchen_area</th>\n",
       "      <th>living_area</th>\n",
       "      <th>renovation</th>\n",
       "      <th>offer_type</th>\n",
       "      <th>unified_address</th>\n",
       "      <th>building_id</th>\n",
       "      <th>price_per_sq_m</th>\n",
       "      <th>house_price_sqm_median</th>\n",
       "    </tr>\n",
       "  </thead>\n",
       "  <tbody>\n",
       "    <tr>\n",
       "      <th>0</th>\n",
       "      <td>1100202</td>\n",
       "      <td>2015-01-24T00:00:00+03:00</td>\n",
       "      <td>2016-01-19T00:00:00+03:00</td>\n",
       "      <td>20000.0</td>\n",
       "      <td>7</td>\n",
       "      <td>0</td>\n",
       "      <td>1</td>\n",
       "      <td>0</td>\n",
       "      <td>28.0</td>\n",
       "      <td>8.0</td>\n",
       "      <td>20.0</td>\n",
       "      <td>3.0</td>\n",
       "      <td>2</td>\n",
       "      <td>Россия, Санкт-Петербург, Богатырский проспект, 5к1</td>\n",
       "      <td>6719200042030752141</td>\n",
       "      <td>714.285714</td>\n",
       "      <td>512.820513</td>\n",
       "    </tr>\n",
       "    <tr>\n",
       "      <th>1</th>\n",
       "      <td>4593125</td>\n",
       "      <td>2015-11-17T00:00:00+03:00</td>\n",
       "      <td>2016-03-04T00:00:00+03:00</td>\n",
       "      <td>24000.0</td>\n",
       "      <td>4</td>\n",
       "      <td>0</td>\n",
       "      <td>2</td>\n",
       "      <td>0</td>\n",
       "      <td>59.0</td>\n",
       "      <td>10.0</td>\n",
       "      <td>35.0</td>\n",
       "      <td>3.0</td>\n",
       "      <td>2</td>\n",
       "      <td>Россия, Санкт-Петербург, Богатырский проспект, 5к1</td>\n",
       "      <td>6719200042030752141</td>\n",
       "      <td>406.779661</td>\n",
       "      <td>512.820513</td>\n",
       "    </tr>\n",
       "    <tr>\n",
       "      <th>2</th>\n",
       "      <td>4586184</td>\n",
       "      <td>2015-11-17T00:00:00+03:00</td>\n",
       "      <td>2016-04-24T00:00:00+03:00</td>\n",
       "      <td>18000.0</td>\n",
       "      <td>6</td>\n",
       "      <td>0</td>\n",
       "      <td>1</td>\n",
       "      <td>0</td>\n",
       "      <td>36.0</td>\n",
       "      <td>9.0</td>\n",
       "      <td>17.0</td>\n",
       "      <td>3.0</td>\n",
       "      <td>2</td>\n",
       "      <td>Россия, Санкт-Петербург, Богатырский проспект, 5к1</td>\n",
       "      <td>6719200042030752141</td>\n",
       "      <td>500.000000</td>\n",
       "      <td>512.820513</td>\n",
       "    </tr>\n",
       "    <tr>\n",
       "      <th>3</th>\n",
       "      <td>5308071</td>\n",
       "      <td>2016-02-04T00:00:00+03:00</td>\n",
       "      <td>2016-02-28T00:00:00+03:00</td>\n",
       "      <td>18000.0</td>\n",
       "      <td>8</td>\n",
       "      <td>0</td>\n",
       "      <td>1</td>\n",
       "      <td>0</td>\n",
       "      <td>39.0</td>\n",
       "      <td>10.0</td>\n",
       "      <td>18.0</td>\n",
       "      <td>0.0</td>\n",
       "      <td>2</td>\n",
       "      <td>Россия, Санкт-Петербург, Богатырский проспект, 5к1</td>\n",
       "      <td>6719200042030752141</td>\n",
       "      <td>461.538462</td>\n",
       "      <td>512.820513</td>\n",
       "    </tr>\n",
       "    <tr>\n",
       "      <th>4</th>\n",
       "      <td>7534283612538021121</td>\n",
       "      <td>2016-02-28T00:00:00+03:00</td>\n",
       "      <td>2016-04-02T00:00:00+03:00</td>\n",
       "      <td>19000.0</td>\n",
       "      <td>3</td>\n",
       "      <td>0</td>\n",
       "      <td>1</td>\n",
       "      <td>0</td>\n",
       "      <td>36.0</td>\n",
       "      <td>8.0</td>\n",
       "      <td>18.0</td>\n",
       "      <td>11.0</td>\n",
       "      <td>2</td>\n",
       "      <td>Россия, Санкт-Петербург, Богатырский проспект, 5к1</td>\n",
       "      <td>6719200042030752141</td>\n",
       "      <td>527.777778</td>\n",
       "      <td>512.820513</td>\n",
       "    </tr>\n",
       "  </tbody>\n",
       "</table>\n",
       "</div>"
      ],
      "text/plain": [
       "              offer_id       first_day_exposition        last_day_exposition  last_price  floor  open_plan  rooms  studio  area  kitchen_area  living_area  renovation  offer_type                                     unified_address          building_id  price_per_sq_m  house_price_sqm_median\n",
       "0              1100202  2015-01-24T00:00:00+03:00  2016-01-19T00:00:00+03:00     20000.0      7          0      1       0  28.0           8.0         20.0         3.0           2  Россия, Санкт-Петербург, Богатырский проспект, 5к1  6719200042030752141      714.285714              512.820513\n",
       "1              4593125  2015-11-17T00:00:00+03:00  2016-03-04T00:00:00+03:00     24000.0      4          0      2       0  59.0          10.0         35.0         3.0           2  Россия, Санкт-Петербург, Богатырский проспект, 5к1  6719200042030752141      406.779661              512.820513\n",
       "2              4586184  2015-11-17T00:00:00+03:00  2016-04-24T00:00:00+03:00     18000.0      6          0      1       0  36.0           9.0         17.0         3.0           2  Россия, Санкт-Петербург, Богатырский проспект, 5к1  6719200042030752141      500.000000              512.820513\n",
       "3              5308071  2016-02-04T00:00:00+03:00  2016-02-28T00:00:00+03:00     18000.0      8          0      1       0  39.0          10.0         18.0         0.0           2  Россия, Санкт-Петербург, Богатырский проспект, 5к1  6719200042030752141      461.538462              512.820513\n",
       "4  7534283612538021121  2016-02-28T00:00:00+03:00  2016-04-02T00:00:00+03:00     19000.0      3          0      1       0  36.0           8.0         18.0        11.0           2  Россия, Санкт-Петербург, Богатырский проспект, 5к1  6719200042030752141      527.777778              512.820513"
      ]
     },
     "execution_count": 50,
     "metadata": {},
     "output_type": "execute_result"
    }
   ],
   "source": [
    "rent_df_cleaned.head()"
   ]
  },
  {
   "cell_type": "code",
   "execution_count": 51,
   "metadata": {
    "tags": []
   },
   "outputs": [],
   "source": [
    "rent_df_cleaned = rent_df_cleaned[['first_day_exposition', \n",
    "                                   'last_day_exposition', \n",
    "                                   'area', 'living_area', \n",
    "                                   'last_price', 'open_plan', \n",
    "                                   'rooms', \n",
    "                                   'renovation',\n",
    "                                   'house_price_sqm_median']]"
   ]
  },
  {
   "cell_type": "code",
   "execution_count": 52,
   "metadata": {
    "tags": []
   },
   "outputs": [],
   "source": [
    "#rent_df_cleaned['log_last_price'] = np.log(rent_df_cleaned['last_price'])"
   ]
  },
  {
   "cell_type": "code",
   "execution_count": 53,
   "metadata": {
    "tags": []
   },
   "outputs": [
    {
     "data": {
      "text/html": [
       "<div>\n",
       "<style scoped>\n",
       "    .dataframe tbody tr th:only-of-type {\n",
       "        vertical-align: middle;\n",
       "    }\n",
       "\n",
       "    .dataframe tbody tr th {\n",
       "        vertical-align: top;\n",
       "    }\n",
       "\n",
       "    .dataframe thead th {\n",
       "        text-align: right;\n",
       "    }\n",
       "</style>\n",
       "<table border=\"1\" class=\"dataframe\">\n",
       "  <thead>\n",
       "    <tr style=\"text-align: right;\">\n",
       "      <th></th>\n",
       "      <th>first_day_exposition</th>\n",
       "      <th>last_day_exposition</th>\n",
       "      <th>area</th>\n",
       "      <th>living_area</th>\n",
       "      <th>last_price</th>\n",
       "      <th>open_plan</th>\n",
       "      <th>rooms</th>\n",
       "      <th>renovation</th>\n",
       "      <th>house_price_sqm_median</th>\n",
       "    </tr>\n",
       "  </thead>\n",
       "  <tbody>\n",
       "    <tr>\n",
       "      <th>155497</th>\n",
       "      <td>2018-08-20T00:00:00+03:00</td>\n",
       "      <td>2018-08-20T00:00:00+03:00</td>\n",
       "      <td>67.0</td>\n",
       "      <td>NaN</td>\n",
       "      <td>30000.0</td>\n",
       "      <td>0</td>\n",
       "      <td>2</td>\n",
       "      <td>NaN</td>\n",
       "      <td>447.761194</td>\n",
       "    </tr>\n",
       "    <tr>\n",
       "      <th>155498</th>\n",
       "      <td>2018-08-20T00:00:00+03:00</td>\n",
       "      <td>2018-08-20T00:00:00+03:00</td>\n",
       "      <td>56.0</td>\n",
       "      <td>32.0</td>\n",
       "      <td>50000.0</td>\n",
       "      <td>0</td>\n",
       "      <td>2</td>\n",
       "      <td>NaN</td>\n",
       "      <td>892.857143</td>\n",
       "    </tr>\n",
       "    <tr>\n",
       "      <th>155499</th>\n",
       "      <td>2017-09-12T00:00:00+03:00</td>\n",
       "      <td>2018-08-20T00:00:00+03:00</td>\n",
       "      <td>46.0</td>\n",
       "      <td>25.0</td>\n",
       "      <td>55000.0</td>\n",
       "      <td>0</td>\n",
       "      <td>2</td>\n",
       "      <td>11.0</td>\n",
       "      <td>1195.652174</td>\n",
       "    </tr>\n",
       "  </tbody>\n",
       "</table>\n",
       "</div>"
      ],
      "text/plain": [
       "             first_day_exposition        last_day_exposition  area  living_area  last_price  open_plan  rooms  renovation  house_price_sqm_median\n",
       "155497  2018-08-20T00:00:00+03:00  2018-08-20T00:00:00+03:00  67.0          NaN     30000.0          0      2         NaN              447.761194\n",
       "155498  2018-08-20T00:00:00+03:00  2018-08-20T00:00:00+03:00  56.0         32.0     50000.0          0      2         NaN              892.857143\n",
       "155499  2017-09-12T00:00:00+03:00  2018-08-20T00:00:00+03:00  46.0         25.0     55000.0          0      2        11.0             1195.652174"
      ]
     },
     "execution_count": 53,
     "metadata": {},
     "output_type": "execute_result"
    }
   ],
   "source": [
    "rent_df_cleaned.tail(3)"
   ]
  },
  {
   "cell_type": "code",
   "execution_count": 54,
   "metadata": {
    "scrolled": true,
    "tags": []
   },
   "outputs": [
    {
     "data": {
      "text/html": [
       "<div>\n",
       "<style scoped>\n",
       "    .dataframe tbody tr th:only-of-type {\n",
       "        vertical-align: middle;\n",
       "    }\n",
       "\n",
       "    .dataframe tbody tr th {\n",
       "        vertical-align: top;\n",
       "    }\n",
       "\n",
       "    .dataframe thead th {\n",
       "        text-align: right;\n",
       "    }\n",
       "</style>\n",
       "<table border=\"1\" class=\"dataframe\">\n",
       "  <thead>\n",
       "    <tr style=\"text-align: right;\">\n",
       "      <th></th>\n",
       "      <th>area</th>\n",
       "      <th>living_area</th>\n",
       "      <th>last_price</th>\n",
       "      <th>open_plan</th>\n",
       "      <th>rooms</th>\n",
       "      <th>renovation</th>\n",
       "      <th>house_price_sqm_median</th>\n",
       "    </tr>\n",
       "  </thead>\n",
       "  <tbody>\n",
       "    <tr>\n",
       "      <th>count</th>\n",
       "      <td>155500.000000</td>\n",
       "      <td>123106.000000</td>\n",
       "      <td>155500.000000</td>\n",
       "      <td>155500.000000</td>\n",
       "      <td>155500.000000</td>\n",
       "      <td>102751.000000</td>\n",
       "      <td>155500.000000</td>\n",
       "    </tr>\n",
       "    <tr>\n",
       "      <th>mean</th>\n",
       "      <td>53.388608</td>\n",
       "      <td>30.423321</td>\n",
       "      <td>31879.141505</td>\n",
       "      <td>0.000051</td>\n",
       "      <td>1.600071</td>\n",
       "      <td>3.696937</td>\n",
       "      <td>588.502449</td>\n",
       "    </tr>\n",
       "    <tr>\n",
       "      <th>std</th>\n",
       "      <td>24.134163</td>\n",
       "      <td>17.410504</td>\n",
       "      <td>20301.276025</td>\n",
       "      <td>0.007172</td>\n",
       "      <td>0.873182</td>\n",
       "      <td>4.489422</td>\n",
       "      <td>151.986949</td>\n",
       "    </tr>\n",
       "    <tr>\n",
       "      <th>min</th>\n",
       "      <td>11.000000</td>\n",
       "      <td>2.000000</td>\n",
       "      <td>130.000000</td>\n",
       "      <td>0.000000</td>\n",
       "      <td>0.000000</td>\n",
       "      <td>0.000000</td>\n",
       "      <td>76.923077</td>\n",
       "    </tr>\n",
       "    <tr>\n",
       "      <th>25%</th>\n",
       "      <td>38.000000</td>\n",
       "      <td>18.000000</td>\n",
       "      <td>20000.000000</td>\n",
       "      <td>0.000000</td>\n",
       "      <td>1.000000</td>\n",
       "      <td>0.000000</td>\n",
       "      <td>500.000000</td>\n",
       "    </tr>\n",
       "    <tr>\n",
       "      <th>50%</th>\n",
       "      <td>46.000000</td>\n",
       "      <td>27.000000</td>\n",
       "      <td>25000.000000</td>\n",
       "      <td>0.000000</td>\n",
       "      <td>1.000000</td>\n",
       "      <td>1.000000</td>\n",
       "      <td>552.631579</td>\n",
       "    </tr>\n",
       "    <tr>\n",
       "      <th>75%</th>\n",
       "      <td>62.000000</td>\n",
       "      <td>37.000000</td>\n",
       "      <td>35000.000000</td>\n",
       "      <td>0.000000</td>\n",
       "      <td>2.000000</td>\n",
       "      <td>10.000000</td>\n",
       "      <td>640.476190</td>\n",
       "    </tr>\n",
       "    <tr>\n",
       "      <th>max</th>\n",
       "      <td>200.000000</td>\n",
       "      <td>2015.000000</td>\n",
       "      <td>199000.000000</td>\n",
       "      <td>1.000000</td>\n",
       "      <td>5.000000</td>\n",
       "      <td>11.000000</td>\n",
       "      <td>2467.532468</td>\n",
       "    </tr>\n",
       "  </tbody>\n",
       "</table>\n",
       "</div>"
      ],
      "text/plain": [
       "                area    living_area     last_price      open_plan          rooms     renovation  house_price_sqm_median\n",
       "count  155500.000000  123106.000000  155500.000000  155500.000000  155500.000000  102751.000000           155500.000000\n",
       "mean       53.388608      30.423321   31879.141505       0.000051       1.600071       3.696937              588.502449\n",
       "std        24.134163      17.410504   20301.276025       0.007172       0.873182       4.489422              151.986949\n",
       "min        11.000000       2.000000     130.000000       0.000000       0.000000       0.000000               76.923077\n",
       "25%        38.000000      18.000000   20000.000000       0.000000       1.000000       0.000000              500.000000\n",
       "50%        46.000000      27.000000   25000.000000       0.000000       1.000000       1.000000              552.631579\n",
       "75%        62.000000      37.000000   35000.000000       0.000000       2.000000      10.000000              640.476190\n",
       "max       200.000000    2015.000000  199000.000000       1.000000       5.000000      11.000000             2467.532468"
      ]
     },
     "execution_count": 54,
     "metadata": {},
     "output_type": "execute_result"
    }
   ],
   "source": [
    "rent_df_cleaned.describe()"
   ]
  },
  {
   "cell_type": "markdown",
   "metadata": {},
   "source": [
    "### 2. Data Transformation"
   ]
  },
  {
   "cell_type": "code",
   "execution_count": 55,
   "metadata": {
    "tags": []
   },
   "outputs": [
    {
     "data": {
      "text/html": [
       "<style type=\"text/css\">\n",
       "#T_70116_row0_col0, #T_70116_row1_col0, #T_70116_row2_col0, #T_70116_row4_col0, #T_70116_row5_col0, #T_70116_row6_col0, #T_70116_row8_col0 {\n",
       "  width: 10em;\n",
       "}\n",
       "#T_70116_row3_col0 {\n",
       "  width: 10em;\n",
       "  background: linear-gradient(90deg, #d65f5f 20.8%, transparent 20.8%);\n",
       "}\n",
       "#T_70116_row7_col0 {\n",
       "  width: 10em;\n",
       "  background: linear-gradient(90deg, #d65f5f 33.9%, transparent 33.9%);\n",
       "}\n",
       "</style>\n",
       "<table id=\"T_70116\">\n",
       "  <thead>\n",
       "    <tr>\n",
       "      <th class=\"blank level0\" >&nbsp;</th>\n",
       "      <th id=\"T_70116_level0_col0\" class=\"col_heading level0 col0\" >percent of NA</th>\n",
       "    </tr>\n",
       "  </thead>\n",
       "  <tbody>\n",
       "    <tr>\n",
       "      <th id=\"T_70116_level0_row0\" class=\"row_heading level0 row0\" >first_day_exposition</th>\n",
       "      <td id=\"T_70116_row0_col0\" class=\"data row0 col0\" >0.00%</td>\n",
       "    </tr>\n",
       "    <tr>\n",
       "      <th id=\"T_70116_level0_row1\" class=\"row_heading level0 row1\" >last_day_exposition</th>\n",
       "      <td id=\"T_70116_row1_col0\" class=\"data row1 col0\" >0.00%</td>\n",
       "    </tr>\n",
       "    <tr>\n",
       "      <th id=\"T_70116_level0_row2\" class=\"row_heading level0 row2\" >area</th>\n",
       "      <td id=\"T_70116_row2_col0\" class=\"data row2 col0\" >0.00%</td>\n",
       "    </tr>\n",
       "    <tr>\n",
       "      <th id=\"T_70116_level0_row3\" class=\"row_heading level0 row3\" >living_area</th>\n",
       "      <td id=\"T_70116_row3_col0\" class=\"data row3 col0\" >20.83%</td>\n",
       "    </tr>\n",
       "    <tr>\n",
       "      <th id=\"T_70116_level0_row4\" class=\"row_heading level0 row4\" >last_price</th>\n",
       "      <td id=\"T_70116_row4_col0\" class=\"data row4 col0\" >0.00%</td>\n",
       "    </tr>\n",
       "    <tr>\n",
       "      <th id=\"T_70116_level0_row5\" class=\"row_heading level0 row5\" >open_plan</th>\n",
       "      <td id=\"T_70116_row5_col0\" class=\"data row5 col0\" >0.00%</td>\n",
       "    </tr>\n",
       "    <tr>\n",
       "      <th id=\"T_70116_level0_row6\" class=\"row_heading level0 row6\" >rooms</th>\n",
       "      <td id=\"T_70116_row6_col0\" class=\"data row6 col0\" >0.00%</td>\n",
       "    </tr>\n",
       "    <tr>\n",
       "      <th id=\"T_70116_level0_row7\" class=\"row_heading level0 row7\" >renovation</th>\n",
       "      <td id=\"T_70116_row7_col0\" class=\"data row7 col0\" >33.92%</td>\n",
       "    </tr>\n",
       "    <tr>\n",
       "      <th id=\"T_70116_level0_row8\" class=\"row_heading level0 row8\" >house_price_sqm_median</th>\n",
       "      <td id=\"T_70116_row8_col0\" class=\"data row8 col0\" >0.00%</td>\n",
       "    </tr>\n",
       "  </tbody>\n",
       "</table>\n"
      ],
      "text/plain": [
       "<pandas.io.formats.style.Styler at 0x7efe8d3b0040>"
      ]
     },
     "execution_count": 55,
     "metadata": {},
     "output_type": "execute_result"
    }
   ],
   "source": [
    "(rent_df_cleaned.isna().sum() / len(rent_df_cleaned)).rename('percent of NA').to_frame().style.bar(vmax=1, vmin=0).format('{:.2%}')"
   ]
  },
  {
   "cell_type": "code",
   "execution_count": 56,
   "metadata": {
    "tags": []
   },
   "outputs": [
    {
     "data": {
      "text/plain": [
       "0.0     50225\n",
       "3.0     16422\n",
       "11.0    14088\n",
       "10.0    13885\n",
       "7.0      3885\n",
       "1.0      3126\n",
       "6.0       699\n",
       "8.0       226\n",
       "2.0       162\n",
       "4.0        32\n",
       "5.0         1\n",
       "Name: renovation, dtype: int64"
      ]
     },
     "execution_count": 56,
     "metadata": {},
     "output_type": "execute_result"
    }
   ],
   "source": [
    "rent_df_cleaned.renovation.value_counts()"
   ]
  },
  {
   "cell_type": "code",
   "execution_count": 57,
   "metadata": {
    "tags": []
   },
   "outputs": [
    {
     "data": {
      "text/plain": [
       "<AxesSubplot: >"
      ]
     },
     "execution_count": 57,
     "metadata": {},
     "output_type": "execute_result"
    },
    {
     "data": {
      "image/png": "[encoded data removed]",
      "text/plain": [
       "<Figure size 640x480 with 2 Axes>"
      ]
     },
     "metadata": {},
     "output_type": "display_data"
    }
   ],
   "source": [
    "sns.heatmap(rent_df_cleaned.corr())"
   ]
  },
  {
   "cell_type": "code",
   "execution_count": 58,
   "metadata": {
    "tags": []
   },
   "outputs": [],
   "source": [
    "median_living_area = rent_df_cleaned.groupby('area')['living_area'].median()\n",
    "\n",
    "rent_df_cleaned['living_area'] = rent_df_cleaned.apply(\n",
    "    lambda row: median_living_area[row['area']] if np.isnan(row['living_area']) else row['living_area'],\n",
    "    axis=1\n",
    ")"
   ]
  },
  {
   "cell_type": "code",
   "execution_count": 59,
   "metadata": {
    "tags": []
   },
   "outputs": [
    {
     "data": {
      "text/html": [
       "<style type=\"text/css\">\n",
       "#T_012eb_row0_col0, #T_012eb_row1_col0, #T_012eb_row2_col0, #T_012eb_row4_col0, #T_012eb_row5_col0, #T_012eb_row6_col0, #T_012eb_row8_col0 {\n",
       "  width: 10em;\n",
       "}\n",
       "#T_012eb_row3_col0 {\n",
       "  width: 10em;\n",
       "  background: linear-gradient(90deg, #d65f5f 0.0%, transparent 0.0%);\n",
       "}\n",
       "#T_012eb_row7_col0 {\n",
       "  width: 10em;\n",
       "  background: linear-gradient(90deg, #d65f5f 33.9%, transparent 33.9%);\n",
       "}\n",
       "</style>\n",
       "<table id=\"T_012eb\">\n",
       "  <thead>\n",
       "    <tr>\n",
       "      <th class=\"blank level0\" >&nbsp;</th>\n",
       "      <th id=\"T_012eb_level0_col0\" class=\"col_heading level0 col0\" >percent of NA</th>\n",
       "    </tr>\n",
       "  </thead>\n",
       "  <tbody>\n",
       "    <tr>\n",
       "      <th id=\"T_012eb_level0_row0\" class=\"row_heading level0 row0\" >first_day_exposition</th>\n",
       "      <td id=\"T_012eb_row0_col0\" class=\"data row0 col0\" >0.00%</td>\n",
       "    </tr>\n",
       "    <tr>\n",
       "      <th id=\"T_012eb_level0_row1\" class=\"row_heading level0 row1\" >last_day_exposition</th>\n",
       "      <td id=\"T_012eb_row1_col0\" class=\"data row1 col0\" >0.00%</td>\n",
       "    </tr>\n",
       "    <tr>\n",
       "      <th id=\"T_012eb_level0_row2\" class=\"row_heading level0 row2\" >area</th>\n",
       "      <td id=\"T_012eb_row2_col0\" class=\"data row2 col0\" >0.00%</td>\n",
       "    </tr>\n",
       "    <tr>\n",
       "      <th id=\"T_012eb_level0_row3\" class=\"row_heading level0 row3\" >living_area</th>\n",
       "      <td id=\"T_012eb_row3_col0\" class=\"data row3 col0\" >0.03%</td>\n",
       "    </tr>\n",
       "    <tr>\n",
       "      <th id=\"T_012eb_level0_row4\" class=\"row_heading level0 row4\" >last_price</th>\n",
       "      <td id=\"T_012eb_row4_col0\" class=\"data row4 col0\" >0.00%</td>\n",
       "    </tr>\n",
       "    <tr>\n",
       "      <th id=\"T_012eb_level0_row5\" class=\"row_heading level0 row5\" >open_plan</th>\n",
       "      <td id=\"T_012eb_row5_col0\" class=\"data row5 col0\" >0.00%</td>\n",
       "    </tr>\n",
       "    <tr>\n",
       "      <th id=\"T_012eb_level0_row6\" class=\"row_heading level0 row6\" >rooms</th>\n",
       "      <td id=\"T_012eb_row6_col0\" class=\"data row6 col0\" >0.00%</td>\n",
       "    </tr>\n",
       "    <tr>\n",
       "      <th id=\"T_012eb_level0_row7\" class=\"row_heading level0 row7\" >renovation</th>\n",
       "      <td id=\"T_012eb_row7_col0\" class=\"data row7 col0\" >33.92%</td>\n",
       "    </tr>\n",
       "    <tr>\n",
       "      <th id=\"T_012eb_level0_row8\" class=\"row_heading level0 row8\" >house_price_sqm_median</th>\n",
       "      <td id=\"T_012eb_row8_col0\" class=\"data row8 col0\" >0.00%</td>\n",
       "    </tr>\n",
       "  </tbody>\n",
       "</table>\n"
      ],
      "text/plain": [
       "<pandas.io.formats.style.Styler at 0x7efe8d3b02b0>"
      ]
     },
     "execution_count": 59,
     "metadata": {},
     "output_type": "execute_result"
    }
   ],
   "source": [
    "(rent_df_cleaned.isna().sum() / len(rent_df_cleaned)).rename('percent of NA').to_frame().style.bar(vmax=1, vmin=0).format('{:.2%}')"
   ]
  },
  {
   "cell_type": "code",
   "execution_count": 60,
   "metadata": {
    "tags": []
   },
   "outputs": [
    {
     "data": {
      "text/plain": [
       "renovation\n",
       "0.0     50225\n",
       "1.0      3126\n",
       "2.0       162\n",
       "3.0     16422\n",
       "4.0        32\n",
       "5.0         1\n",
       "6.0       699\n",
       "7.0      3885\n",
       "8.0       226\n",
       "10.0    13885\n",
       "11.0    14088\n",
       "Name: renovation, dtype: int64"
      ]
     },
     "execution_count": 60,
     "metadata": {},
     "output_type": "execute_result"
    }
   ],
   "source": [
    "rent_df_cleaned.groupby('renovation')['renovation'].count()"
   ]
  },
  {
   "cell_type": "code",
   "execution_count": null,
   "metadata": {},
   "outputs": [],
   "source": []
  },
  {
   "cell_type": "code",
   "execution_count": 63,
   "metadata": {
    "tags": []
   },
   "outputs": [],
   "source": [
    "# rent_df_cleaned.drop(columns='renovation', inplace=True)\n",
    "\n",
    "rent_df_cleaned = rent_df_cleaned.dropna(subset=['living_area'])\n",
    "rent_df_cleaned = rent_df_cleaned.dropna(subset=['renovation'])"
   ]
  },
  {
   "cell_type": "code",
   "execution_count": 64,
   "metadata": {
    "tags": []
   },
   "outputs": [
    {
     "data": {
      "text/html": [
       "<style type=\"text/css\">\n",
       "#T_8db09_row0_col0, #T_8db09_row1_col0, #T_8db09_row2_col0, #T_8db09_row3_col0, #T_8db09_row4_col0, #T_8db09_row5_col0, #T_8db09_row6_col0, #T_8db09_row7_col0, #T_8db09_row8_col0 {\n",
       "  width: 10em;\n",
       "}\n",
       "</style>\n",
       "<table id=\"T_8db09\">\n",
       "  <thead>\n",
       "    <tr>\n",
       "      <th class=\"blank level0\" >&nbsp;</th>\n",
       "      <th id=\"T_8db09_level0_col0\" class=\"col_heading level0 col0\" >percent of NA</th>\n",
       "    </tr>\n",
       "  </thead>\n",
       "  <tbody>\n",
       "    <tr>\n",
       "      <th id=\"T_8db09_level0_row0\" class=\"row_heading level0 row0\" >first_day_exposition</th>\n",
       "      <td id=\"T_8db09_row0_col0\" class=\"data row0 col0\" >0.00%</td>\n",
       "    </tr>\n",
       "    <tr>\n",
       "      <th id=\"T_8db09_level0_row1\" class=\"row_heading level0 row1\" >last_day_exposition</th>\n",
       "      <td id=\"T_8db09_row1_col0\" class=\"data row1 col0\" >0.00%</td>\n",
       "    </tr>\n",
       "    <tr>\n",
       "      <th id=\"T_8db09_level0_row2\" class=\"row_heading level0 row2\" >area</th>\n",
       "      <td id=\"T_8db09_row2_col0\" class=\"data row2 col0\" >0.00%</td>\n",
       "    </tr>\n",
       "    <tr>\n",
       "      <th id=\"T_8db09_level0_row3\" class=\"row_heading level0 row3\" >living_area</th>\n",
       "      <td id=\"T_8db09_row3_col0\" class=\"data row3 col0\" >0.00%</td>\n",
       "    </tr>\n",
       "    <tr>\n",
       "      <th id=\"T_8db09_level0_row4\" class=\"row_heading level0 row4\" >last_price</th>\n",
       "      <td id=\"T_8db09_row4_col0\" class=\"data row4 col0\" >0.00%</td>\n",
       "    </tr>\n",
       "    <tr>\n",
       "      <th id=\"T_8db09_level0_row5\" class=\"row_heading level0 row5\" >open_plan</th>\n",
       "      <td id=\"T_8db09_row5_col0\" class=\"data row5 col0\" >0.00%</td>\n",
       "    </tr>\n",
       "    <tr>\n",
       "      <th id=\"T_8db09_level0_row6\" class=\"row_heading level0 row6\" >rooms</th>\n",
       "      <td id=\"T_8db09_row6_col0\" class=\"data row6 col0\" >0.00%</td>\n",
       "    </tr>\n",
       "    <tr>\n",
       "      <th id=\"T_8db09_level0_row7\" class=\"row_heading level0 row7\" >renovation</th>\n",
       "      <td id=\"T_8db09_row7_col0\" class=\"data row7 col0\" >0.00%</td>\n",
       "    </tr>\n",
       "    <tr>\n",
       "      <th id=\"T_8db09_level0_row8\" class=\"row_heading level0 row8\" >house_price_sqm_median</th>\n",
       "      <td id=\"T_8db09_row8_col0\" class=\"data row8 col0\" >0.00%</td>\n",
       "    </tr>\n",
       "  </tbody>\n",
       "</table>\n"
      ],
      "text/plain": [
       "<pandas.io.formats.style.Styler at 0x7efe7cef7af0>"
      ]
     },
     "execution_count": 64,
     "metadata": {},
     "output_type": "execute_result"
    }
   ],
   "source": [
    "(rent_df_cleaned.isna().sum() / len(rent_df_cleaned)).rename('percent of NA').to_frame().style.bar(vmax=1, vmin=0).format('{:.2%}')"
   ]
  },
  {
   "cell_type": "code",
   "execution_count": 65,
   "metadata": {
    "tags": []
   },
   "outputs": [],
   "source": [
    "rent_df_cleaned.first_day_exposition = pd.to_datetime(rent_df_cleaned.first_day_exposition)\n",
    "rent_df_cleaned.last_day_exposition = pd.to_datetime(rent_df_cleaned.last_day_exposition)"
   ]
  },
  {
   "cell_type": "code",
   "execution_count": 66,
   "metadata": {
    "scrolled": true,
    "tags": []
   },
   "outputs": [
    {
     "name": "stdout",
     "output_type": "stream",
     "text": [
      "<class 'pandas.core.frame.DataFrame'>\n",
      "Int64Index: 102731 entries, 0 to 155499\n",
      "Data columns (total 9 columns):\n",
      " #   Column                  Non-Null Count   Dtype                                \n",
      "---  ------                  --------------   -----                                \n",
      " 0   first_day_exposition    102731 non-null  datetime64[ns, pytz.FixedOffset(180)]\n",
      " 1   last_day_exposition     102731 non-null  datetime64[ns, pytz.FixedOffset(180)]\n",
      " 2   area                    102731 non-null  float64                              \n",
      " 3   living_area             102731 non-null  float64                              \n",
      " 4   last_price              102731 non-null  float64                              \n",
      " 5   open_plan               102731 non-null  int64                                \n",
      " 6   rooms                   102731 non-null  int64                                \n",
      " 7   renovation              102731 non-null  float64                              \n",
      " 8   house_price_sqm_median  102731 non-null  float64                              \n",
      "dtypes: datetime64[ns, pytz.FixedOffset(180)](2), float64(5), int64(2)\n",
      "memory usage: 7.8 MB\n"
     ]
    }
   ],
   "source": [
    "rent_df_cleaned.info()"
   ]
  },
  {
   "cell_type": "code",
   "execution_count": 67,
   "metadata": {
    "tags": []
   },
   "outputs": [],
   "source": [
    "rent_df_cleaned['days_published'] = (rent_df_cleaned['last_day_exposition'] - rent_df_cleaned['first_day_exposition']).dt.days"
   ]
  },
  {
   "cell_type": "code",
   "execution_count": 68,
   "metadata": {
    "tags": []
   },
   "outputs": [
    {
     "data": {
      "text/html": [
       "<div>\n",
       "<style scoped>\n",
       "    .dataframe tbody tr th:only-of-type {\n",
       "        vertical-align: middle;\n",
       "    }\n",
       "\n",
       "    .dataframe tbody tr th {\n",
       "        vertical-align: top;\n",
       "    }\n",
       "\n",
       "    .dataframe thead th {\n",
       "        text-align: right;\n",
       "    }\n",
       "</style>\n",
       "<table border=\"1\" class=\"dataframe\">\n",
       "  <thead>\n",
       "    <tr style=\"text-align: right;\">\n",
       "      <th></th>\n",
       "      <th>first_day_exposition</th>\n",
       "      <th>last_day_exposition</th>\n",
       "      <th>area</th>\n",
       "      <th>living_area</th>\n",
       "      <th>last_price</th>\n",
       "      <th>open_plan</th>\n",
       "      <th>rooms</th>\n",
       "      <th>renovation</th>\n",
       "      <th>house_price_sqm_median</th>\n",
       "      <th>days_published</th>\n",
       "    </tr>\n",
       "  </thead>\n",
       "  <tbody>\n",
       "    <tr>\n",
       "      <th>0</th>\n",
       "      <td>2015-01-24 00:00:00+03:00</td>\n",
       "      <td>2016-01-19 00:00:00+03:00</td>\n",
       "      <td>28.0</td>\n",
       "      <td>20.0</td>\n",
       "      <td>20000.0</td>\n",
       "      <td>0</td>\n",
       "      <td>1</td>\n",
       "      <td>3.0</td>\n",
       "      <td>512.820513</td>\n",
       "      <td>360</td>\n",
       "    </tr>\n",
       "    <tr>\n",
       "      <th>1</th>\n",
       "      <td>2015-11-17 00:00:00+03:00</td>\n",
       "      <td>2016-03-04 00:00:00+03:00</td>\n",
       "      <td>59.0</td>\n",
       "      <td>35.0</td>\n",
       "      <td>24000.0</td>\n",
       "      <td>0</td>\n",
       "      <td>2</td>\n",
       "      <td>3.0</td>\n",
       "      <td>512.820513</td>\n",
       "      <td>108</td>\n",
       "    </tr>\n",
       "    <tr>\n",
       "      <th>2</th>\n",
       "      <td>2015-11-17 00:00:00+03:00</td>\n",
       "      <td>2016-04-24 00:00:00+03:00</td>\n",
       "      <td>36.0</td>\n",
       "      <td>17.0</td>\n",
       "      <td>18000.0</td>\n",
       "      <td>0</td>\n",
       "      <td>1</td>\n",
       "      <td>3.0</td>\n",
       "      <td>512.820513</td>\n",
       "      <td>159</td>\n",
       "    </tr>\n",
       "    <tr>\n",
       "      <th>3</th>\n",
       "      <td>2016-02-04 00:00:00+03:00</td>\n",
       "      <td>2016-02-28 00:00:00+03:00</td>\n",
       "      <td>39.0</td>\n",
       "      <td>18.0</td>\n",
       "      <td>18000.0</td>\n",
       "      <td>0</td>\n",
       "      <td>1</td>\n",
       "      <td>0.0</td>\n",
       "      <td>512.820513</td>\n",
       "      <td>24</td>\n",
       "    </tr>\n",
       "    <tr>\n",
       "      <th>4</th>\n",
       "      <td>2016-02-28 00:00:00+03:00</td>\n",
       "      <td>2016-04-02 00:00:00+03:00</td>\n",
       "      <td>36.0</td>\n",
       "      <td>18.0</td>\n",
       "      <td>19000.0</td>\n",
       "      <td>0</td>\n",
       "      <td>1</td>\n",
       "      <td>11.0</td>\n",
       "      <td>512.820513</td>\n",
       "      <td>34</td>\n",
       "    </tr>\n",
       "  </tbody>\n",
       "</table>\n",
       "</div>"
      ],
      "text/plain": [
       "       first_day_exposition       last_day_exposition  area  living_area  last_price  open_plan  rooms  renovation  house_price_sqm_median  days_published\n",
       "0 2015-01-24 00:00:00+03:00 2016-01-19 00:00:00+03:00  28.0         20.0     20000.0          0      1         3.0              512.820513             360\n",
       "1 2015-11-17 00:00:00+03:00 2016-03-04 00:00:00+03:00  59.0         35.0     24000.0          0      2         3.0              512.820513             108\n",
       "2 2015-11-17 00:00:00+03:00 2016-04-24 00:00:00+03:00  36.0         17.0     18000.0          0      1         3.0              512.820513             159\n",
       "3 2016-02-04 00:00:00+03:00 2016-02-28 00:00:00+03:00  39.0         18.0     18000.0          0      1         0.0              512.820513              24\n",
       "4 2016-02-28 00:00:00+03:00 2016-04-02 00:00:00+03:00  36.0         18.0     19000.0          0      1        11.0              512.820513              34"
      ]
     },
     "execution_count": 68,
     "metadata": {},
     "output_type": "execute_result"
    }
   ],
   "source": [
    "rent_df_cleaned.head()"
   ]
  },
  {
   "cell_type": "code",
   "execution_count": 69,
   "metadata": {
    "tags": []
   },
   "outputs": [],
   "source": [
    "#renovation_encoded = pd.get_dummies(rent_df_cleaned, columns=['renovation','open_plan','rooms'])"
   ]
  },
  {
   "cell_type": "code",
   "execution_count": 70,
   "metadata": {
    "tags": []
   },
   "outputs": [],
   "source": [
    "#renovation_encoded.head(3)"
   ]
  },
  {
   "cell_type": "code",
   "execution_count": 71,
   "metadata": {
    "tags": []
   },
   "outputs": [],
   "source": [
    "rent_df_cleaned.drop(columns=['first_day_exposition','last_day_exposition'], inplace=True)"
   ]
  },
  {
   "cell_type": "code",
   "execution_count": 74,
   "metadata": {
    "tags": []
   },
   "outputs": [
    {
     "data": {
      "text/html": [
       "<div>\n",
       "<style scoped>\n",
       "    .dataframe tbody tr th:only-of-type {\n",
       "        vertical-align: middle;\n",
       "    }\n",
       "\n",
       "    .dataframe tbody tr th {\n",
       "        vertical-align: top;\n",
       "    }\n",
       "\n",
       "    .dataframe thead th {\n",
       "        text-align: right;\n",
       "    }\n",
       "</style>\n",
       "<table border=\"1\" class=\"dataframe\">\n",
       "  <thead>\n",
       "    <tr style=\"text-align: right;\">\n",
       "      <th></th>\n",
       "      <th>area</th>\n",
       "      <th>living_area</th>\n",
       "      <th>last_price</th>\n",
       "      <th>open_plan</th>\n",
       "      <th>rooms</th>\n",
       "      <th>renovation</th>\n",
       "      <th>days_published</th>\n",
       "    </tr>\n",
       "  </thead>\n",
       "  <tbody>\n",
       "    <tr>\n",
       "      <th>155489</th>\n",
       "      <td>38.5</td>\n",
       "      <td>19.0</td>\n",
       "      <td>20000.0</td>\n",
       "      <td>0</td>\n",
       "      <td>1</td>\n",
       "      <td>3.0</td>\n",
       "      <td>1</td>\n",
       "    </tr>\n",
       "    <tr>\n",
       "      <th>155493</th>\n",
       "      <td>34.0</td>\n",
       "      <td>18.0</td>\n",
       "      <td>17000.0</td>\n",
       "      <td>0</td>\n",
       "      <td>1</td>\n",
       "      <td>3.0</td>\n",
       "      <td>0</td>\n",
       "    </tr>\n",
       "    <tr>\n",
       "      <th>155499</th>\n",
       "      <td>46.0</td>\n",
       "      <td>25.0</td>\n",
       "      <td>55000.0</td>\n",
       "      <td>0</td>\n",
       "      <td>2</td>\n",
       "      <td>11.0</td>\n",
       "      <td>342</td>\n",
       "    </tr>\n",
       "  </tbody>\n",
       "</table>\n",
       "</div>"
      ],
      "text/plain": [
       "        area  living_area  last_price  open_plan  rooms  renovation  days_published\n",
       "155489  38.5         19.0     20000.0          0      1         3.0               1\n",
       "155493  34.0         18.0     17000.0          0      1         3.0               0\n",
       "155499  46.0         25.0     55000.0          0      2        11.0             342"
      ]
     },
     "execution_count": 74,
     "metadata": {},
     "output_type": "execute_result"
    }
   ],
   "source": [
    "rent_df_cleaned.tail(3)"
   ]
  },
  {
   "cell_type": "code",
   "execution_count": 77,
   "metadata": {
    "tags": []
   },
   "outputs": [
    {
     "ename": "KeyError",
     "evalue": "\"['house_price_sqm_median'] not found in axis\"",
     "output_type": "error",
     "traceback": [
      "\u001b[0;31m---------------------------------------------------------------------------\u001b[0m",
      "\u001b[0;31mKeyError\u001b[0m                                  Traceback (most recent call last)",
      "Cell \u001b[0;32mIn[77], line 1\u001b[0m\n\u001b[0;32m----> 1\u001b[0m \u001b[43mrent_df_cleaned\u001b[49m\u001b[38;5;241;43m.\u001b[39;49m\u001b[43mdrop\u001b[49m\u001b[43m(\u001b[49m\u001b[43mcolumns\u001b[49m\u001b[38;5;241;43m=\u001b[39;49m\u001b[43m[\u001b[49m\u001b[38;5;124;43m'\u001b[39;49m\u001b[38;5;124;43mhouse_price_sqm_median\u001b[39;49m\u001b[38;5;124;43m'\u001b[39;49m\u001b[43m]\u001b[49m\u001b[43m,\u001b[49m\u001b[43m \u001b[49m\u001b[43minplace\u001b[49m\u001b[38;5;241;43m=\u001b[39;49m\u001b[38;5;28;43;01mTrue\u001b[39;49;00m\u001b[43m)\u001b[49m\n",
      "File \u001b[0;32m/opt/conda/lib/python3.10/site-packages/pandas/util/_decorators.py:331\u001b[0m, in \u001b[0;36mdeprecate_nonkeyword_arguments.<locals>.decorate.<locals>.wrapper\u001b[0;34m(*args, **kwargs)\u001b[0m\n\u001b[1;32m    325\u001b[0m \u001b[38;5;28;01mif\u001b[39;00m \u001b[38;5;28mlen\u001b[39m(args) \u001b[38;5;241m>\u001b[39m num_allow_args:\n\u001b[1;32m    326\u001b[0m     warnings\u001b[38;5;241m.\u001b[39mwarn(\n\u001b[1;32m    327\u001b[0m         msg\u001b[38;5;241m.\u001b[39mformat(arguments\u001b[38;5;241m=\u001b[39m_format_argument_list(allow_args)),\n\u001b[1;32m    328\u001b[0m         \u001b[38;5;167;01mFutureWarning\u001b[39;00m,\n\u001b[1;32m    329\u001b[0m         stacklevel\u001b[38;5;241m=\u001b[39mfind_stack_level(),\n\u001b[1;32m    330\u001b[0m     )\n\u001b[0;32m--> 331\u001b[0m \u001b[38;5;28;01mreturn\u001b[39;00m \u001b[43mfunc\u001b[49m\u001b[43m(\u001b[49m\u001b[38;5;241;43m*\u001b[39;49m\u001b[43margs\u001b[49m\u001b[43m,\u001b[49m\u001b[43m \u001b[49m\u001b[38;5;241;43m*\u001b[39;49m\u001b[38;5;241;43m*\u001b[39;49m\u001b[43mkwargs\u001b[49m\u001b[43m)\u001b[49m\n",
      "File \u001b[0;32m/opt/conda/lib/python3.10/site-packages/pandas/core/frame.py:5396\u001b[0m, in \u001b[0;36mDataFrame.drop\u001b[0;34m(self, labels, axis, index, columns, level, inplace, errors)\u001b[0m\n\u001b[1;32m   5248\u001b[0m \u001b[38;5;129m@deprecate_nonkeyword_arguments\u001b[39m(version\u001b[38;5;241m=\u001b[39m\u001b[38;5;28;01mNone\u001b[39;00m, allowed_args\u001b[38;5;241m=\u001b[39m[\u001b[38;5;124m\"\u001b[39m\u001b[38;5;124mself\u001b[39m\u001b[38;5;124m\"\u001b[39m, \u001b[38;5;124m\"\u001b[39m\u001b[38;5;124mlabels\u001b[39m\u001b[38;5;124m\"\u001b[39m])\n\u001b[1;32m   5249\u001b[0m \u001b[38;5;28;01mdef\u001b[39;00m \u001b[38;5;21mdrop\u001b[39m(  \u001b[38;5;66;03m# type: ignore[override]\u001b[39;00m\n\u001b[1;32m   5250\u001b[0m     \u001b[38;5;28mself\u001b[39m,\n\u001b[0;32m   (...)\u001b[0m\n\u001b[1;32m   5257\u001b[0m     errors: IgnoreRaise \u001b[38;5;241m=\u001b[39m \u001b[38;5;124m\"\u001b[39m\u001b[38;5;124mraise\u001b[39m\u001b[38;5;124m\"\u001b[39m,\n\u001b[1;32m   5258\u001b[0m ) \u001b[38;5;241m-\u001b[39m\u001b[38;5;241m>\u001b[39m DataFrame \u001b[38;5;241m|\u001b[39m \u001b[38;5;28;01mNone\u001b[39;00m:\n\u001b[1;32m   5259\u001b[0m \u001b[38;5;250m    \u001b[39m\u001b[38;5;124;03m\"\"\"\u001b[39;00m\n\u001b[1;32m   5260\u001b[0m \u001b[38;5;124;03m    Drop specified labels from rows or columns.\u001b[39;00m\n\u001b[1;32m   5261\u001b[0m \n\u001b[0;32m   (...)\u001b[0m\n\u001b[1;32m   5394\u001b[0m \u001b[38;5;124;03m            weight  1.0     0.8\u001b[39;00m\n\u001b[1;32m   5395\u001b[0m \u001b[38;5;124;03m    \"\"\"\u001b[39;00m\n\u001b[0;32m-> 5396\u001b[0m     \u001b[38;5;28;01mreturn\u001b[39;00m \u001b[38;5;28;43msuper\u001b[39;49m\u001b[43m(\u001b[49m\u001b[43m)\u001b[49m\u001b[38;5;241;43m.\u001b[39;49m\u001b[43mdrop\u001b[49m\u001b[43m(\u001b[49m\n\u001b[1;32m   5397\u001b[0m \u001b[43m        \u001b[49m\u001b[43mlabels\u001b[49m\u001b[38;5;241;43m=\u001b[39;49m\u001b[43mlabels\u001b[49m\u001b[43m,\u001b[49m\n\u001b[1;32m   5398\u001b[0m \u001b[43m        \u001b[49m\u001b[43maxis\u001b[49m\u001b[38;5;241;43m=\u001b[39;49m\u001b[43maxis\u001b[49m\u001b[43m,\u001b[49m\n\u001b[1;32m   5399\u001b[0m \u001b[43m        \u001b[49m\u001b[43mindex\u001b[49m\u001b[38;5;241;43m=\u001b[39;49m\u001b[43mindex\u001b[49m\u001b[43m,\u001b[49m\n\u001b[1;32m   5400\u001b[0m \u001b[43m        \u001b[49m\u001b[43mcolumns\u001b[49m\u001b[38;5;241;43m=\u001b[39;49m\u001b[43mcolumns\u001b[49m\u001b[43m,\u001b[49m\n\u001b[1;32m   5401\u001b[0m \u001b[43m        \u001b[49m\u001b[43mlevel\u001b[49m\u001b[38;5;241;43m=\u001b[39;49m\u001b[43mlevel\u001b[49m\u001b[43m,\u001b[49m\n\u001b[1;32m   5402\u001b[0m \u001b[43m        \u001b[49m\u001b[43minplace\u001b[49m\u001b[38;5;241;43m=\u001b[39;49m\u001b[43minplace\u001b[49m\u001b[43m,\u001b[49m\n\u001b[1;32m   5403\u001b[0m \u001b[43m        \u001b[49m\u001b[43merrors\u001b[49m\u001b[38;5;241;43m=\u001b[39;49m\u001b[43merrors\u001b[49m\u001b[43m,\u001b[49m\n\u001b[1;32m   5404\u001b[0m \u001b[43m    \u001b[49m\u001b[43m)\u001b[49m\n",
      "File \u001b[0;32m/opt/conda/lib/python3.10/site-packages/pandas/util/_decorators.py:331\u001b[0m, in \u001b[0;36mdeprecate_nonkeyword_arguments.<locals>.decorate.<locals>.wrapper\u001b[0;34m(*args, **kwargs)\u001b[0m\n\u001b[1;32m    325\u001b[0m \u001b[38;5;28;01mif\u001b[39;00m \u001b[38;5;28mlen\u001b[39m(args) \u001b[38;5;241m>\u001b[39m num_allow_args:\n\u001b[1;32m    326\u001b[0m     warnings\u001b[38;5;241m.\u001b[39mwarn(\n\u001b[1;32m    327\u001b[0m         msg\u001b[38;5;241m.\u001b[39mformat(arguments\u001b[38;5;241m=\u001b[39m_format_argument_list(allow_args)),\n\u001b[1;32m    328\u001b[0m         \u001b[38;5;167;01mFutureWarning\u001b[39;00m,\n\u001b[1;32m    329\u001b[0m         stacklevel\u001b[38;5;241m=\u001b[39mfind_stack_level(),\n\u001b[1;32m    330\u001b[0m     )\n\u001b[0;32m--> 331\u001b[0m \u001b[38;5;28;01mreturn\u001b[39;00m \u001b[43mfunc\u001b[49m\u001b[43m(\u001b[49m\u001b[38;5;241;43m*\u001b[39;49m\u001b[43margs\u001b[49m\u001b[43m,\u001b[49m\u001b[43m \u001b[49m\u001b[38;5;241;43m*\u001b[39;49m\u001b[38;5;241;43m*\u001b[39;49m\u001b[43mkwargs\u001b[49m\u001b[43m)\u001b[49m\n",
      "File \u001b[0;32m/opt/conda/lib/python3.10/site-packages/pandas/core/generic.py:4505\u001b[0m, in \u001b[0;36mNDFrame.drop\u001b[0;34m(self, labels, axis, index, columns, level, inplace, errors)\u001b[0m\n\u001b[1;32m   4503\u001b[0m \u001b[38;5;28;01mfor\u001b[39;00m axis, labels \u001b[38;5;129;01min\u001b[39;00m axes\u001b[38;5;241m.\u001b[39mitems():\n\u001b[1;32m   4504\u001b[0m     \u001b[38;5;28;01mif\u001b[39;00m labels \u001b[38;5;129;01mis\u001b[39;00m \u001b[38;5;129;01mnot\u001b[39;00m \u001b[38;5;28;01mNone\u001b[39;00m:\n\u001b[0;32m-> 4505\u001b[0m         obj \u001b[38;5;241m=\u001b[39m \u001b[43mobj\u001b[49m\u001b[38;5;241;43m.\u001b[39;49m\u001b[43m_drop_axis\u001b[49m\u001b[43m(\u001b[49m\u001b[43mlabels\u001b[49m\u001b[43m,\u001b[49m\u001b[43m \u001b[49m\u001b[43maxis\u001b[49m\u001b[43m,\u001b[49m\u001b[43m \u001b[49m\u001b[43mlevel\u001b[49m\u001b[38;5;241;43m=\u001b[39;49m\u001b[43mlevel\u001b[49m\u001b[43m,\u001b[49m\u001b[43m \u001b[49m\u001b[43merrors\u001b[49m\u001b[38;5;241;43m=\u001b[39;49m\u001b[43merrors\u001b[49m\u001b[43m)\u001b[49m\n\u001b[1;32m   4507\u001b[0m \u001b[38;5;28;01mif\u001b[39;00m inplace:\n\u001b[1;32m   4508\u001b[0m     \u001b[38;5;28mself\u001b[39m\u001b[38;5;241m.\u001b[39m_update_inplace(obj)\n",
      "File \u001b[0;32m/opt/conda/lib/python3.10/site-packages/pandas/core/generic.py:4546\u001b[0m, in \u001b[0;36mNDFrame._drop_axis\u001b[0;34m(self, labels, axis, level, errors, only_slice)\u001b[0m\n\u001b[1;32m   4544\u001b[0m         new_axis \u001b[38;5;241m=\u001b[39m axis\u001b[38;5;241m.\u001b[39mdrop(labels, level\u001b[38;5;241m=\u001b[39mlevel, errors\u001b[38;5;241m=\u001b[39merrors)\n\u001b[1;32m   4545\u001b[0m     \u001b[38;5;28;01melse\u001b[39;00m:\n\u001b[0;32m-> 4546\u001b[0m         new_axis \u001b[38;5;241m=\u001b[39m \u001b[43maxis\u001b[49m\u001b[38;5;241;43m.\u001b[39;49m\u001b[43mdrop\u001b[49m\u001b[43m(\u001b[49m\u001b[43mlabels\u001b[49m\u001b[43m,\u001b[49m\u001b[43m \u001b[49m\u001b[43merrors\u001b[49m\u001b[38;5;241;43m=\u001b[39;49m\u001b[43merrors\u001b[49m\u001b[43m)\u001b[49m\n\u001b[1;32m   4547\u001b[0m     indexer \u001b[38;5;241m=\u001b[39m axis\u001b[38;5;241m.\u001b[39mget_indexer(new_axis)\n\u001b[1;32m   4549\u001b[0m \u001b[38;5;66;03m# Case for non-unique axis\u001b[39;00m\n\u001b[1;32m   4550\u001b[0m \u001b[38;5;28;01melse\u001b[39;00m:\n",
      "File \u001b[0;32m/opt/conda/lib/python3.10/site-packages/pandas/core/indexes/base.py:6977\u001b[0m, in \u001b[0;36mIndex.drop\u001b[0;34m(self, labels, errors)\u001b[0m\n\u001b[1;32m   6975\u001b[0m \u001b[38;5;28;01mif\u001b[39;00m mask\u001b[38;5;241m.\u001b[39many():\n\u001b[1;32m   6976\u001b[0m     \u001b[38;5;28;01mif\u001b[39;00m errors \u001b[38;5;241m!=\u001b[39m \u001b[38;5;124m\"\u001b[39m\u001b[38;5;124mignore\u001b[39m\u001b[38;5;124m\"\u001b[39m:\n\u001b[0;32m-> 6977\u001b[0m         \u001b[38;5;28;01mraise\u001b[39;00m \u001b[38;5;167;01mKeyError\u001b[39;00m(\u001b[38;5;124mf\u001b[39m\u001b[38;5;124m\"\u001b[39m\u001b[38;5;132;01m{\u001b[39;00m\u001b[38;5;28mlist\u001b[39m(labels[mask])\u001b[38;5;132;01m}\u001b[39;00m\u001b[38;5;124m not found in axis\u001b[39m\u001b[38;5;124m\"\u001b[39m)\n\u001b[1;32m   6978\u001b[0m     indexer \u001b[38;5;241m=\u001b[39m indexer[\u001b[38;5;241m~\u001b[39mmask]\n\u001b[1;32m   6979\u001b[0m \u001b[38;5;28;01mreturn\u001b[39;00m \u001b[38;5;28mself\u001b[39m\u001b[38;5;241m.\u001b[39mdelete(indexer)\n",
      "\u001b[0;31mKeyError\u001b[0m: \"['house_price_sqm_median'] not found in axis\""
     ]
    }
   ],
   "source": [
    "rent_df_cleaned.drop(columns=['house_price_sqm_median'], inplace=True)"
   ]
  },
  {
   "cell_type": "code",
   "execution_count": 78,
   "metadata": {
    "tags": []
   },
   "outputs": [],
   "source": [
    "X = rent_df_cleaned.drop('last_price', axis=1)\n",
    "y = rent_df_cleaned['last_price']"
   ]
  },
  {
   "cell_type": "code",
   "execution_count": 79,
   "metadata": {
    "tags": []
   },
   "outputs": [],
   "source": [
    "# numerical_features = ['area', 'living_area', 'house_price_sqm_median', 'days_published']\n",
    "\n",
    "# scaler = StandardScaler()\n",
    "# \n",
    "# X[numerical_features] = scaler.fit_transform(X[numerical_features])\n",
    "# y = scaler.fit_transform(y.values.reshape(-1, 1))\n",
    "# "
   ]
  },
  {
   "cell_type": "code",
   "execution_count": 80,
   "metadata": {
    "tags": []
   },
   "outputs": [],
   "source": [
    "# Code from Nikitin\n",
    "\n",
    "# from sklearn.preprocessing import StandardScaler\n",
    "# sc_X = StandardScaler()\n",
    "# sc_y = StandardScaler()\n",
    "# \n",
    "# X_train = sc_X.fit_transform(X_train)\n",
    "# X_valid = sc_X.fit_transform(X_valid)\n",
    "# y_train = sc_y.fit_transform(y_train)\n",
    "# y_valid = sc_y.fit_transform(y_valid)"
   ]
  },
  {
   "cell_type": "markdown",
   "metadata": {},
   "source": [
    "### 3. Models"
   ]
  },
  {
   "cell_type": "code",
   "execution_count": 81,
   "metadata": {
    "tags": []
   },
   "outputs": [],
   "source": [
    "X_train, X_valid, y_train, y_valid = train_test_split(X, y, test_size=0.25, random_state=7)"
   ]
  },
  {
   "cell_type": "code",
   "execution_count": 82,
   "metadata": {
    "tags": []
   },
   "outputs": [],
   "source": [
    "# numerical_features_X = ['area', 'living_area', 'house_price_sqm_median', 'days_published', 'open_plan', 'rooms']\n",
    "# \n",
    "# scaler_X = StandardScaler()\n",
    "# scaler_y = StandardScaler()\n",
    "# \n",
    "# \n",
    "# X_train[numerical_features_X] = scaler_X.fit_transform(X_train[numerical_features_X])\n",
    "# X_valid[numerical_features_X] = scaler_X.fit_transform(X_valid[numerical_features_X])\n",
    "# \n",
    "# # Convert y_train to numpy array if it's not already\n",
    "# y_train = np.array(y_train).reshape(-1, 1)\n",
    "# y_valid = np.array(y_valid).reshape(-1, 1)\n",
    "# \n",
    "# y_train = scaler_y.fit_transform(y_train)\n",
    "# y_valid = scaler_y.fit_transform(y_valid)"
   ]
  },
  {
   "cell_type": "code",
   "execution_count": 83,
   "metadata": {
    "tags": []
   },
   "outputs": [
    {
     "name": "stdout",
     "output_type": "stream",
     "text": [
      "        area  living_area  open_plan  rooms  renovation  days_published\n",
      "9679    38.0         18.0          0      1        10.0               6\n",
      "104384  44.0         28.0          0      2         7.0               3\n",
      "27279   80.0         51.0          0      3         0.0               6\n",
      "40227   95.0         50.0          0      2         0.0              24\n",
      "17341   52.0         42.0          0      2        11.0              13\n",
      "...      ...          ...        ...    ...         ...             ...\n",
      "77308   58.0         34.0          0      2         0.0              11\n",
      "15758   72.0         36.0          0      2         0.0             162\n",
      "71834   55.0         36.0          0      2         0.0               7\n",
      "84651   35.0         18.0          0      1         0.0               3\n",
      "89124   60.0         45.0          0      1         0.0              16\n",
      "\n",
      "[77048 rows x 6 columns]\n"
     ]
    }
   ],
   "source": [
    "print(X_train)"
   ]
  },
  {
   "cell_type": "code",
   "execution_count": 84,
   "metadata": {},
   "outputs": [],
   "source": [
    "scaler_X = StandardScaler()\n",
    "scaler_y = StandardScaler()\n",
    "\n",
    "\n",
    "X_train = scaler_X.fit_transform(X_train)\n",
    "X_valid = scaler_X.fit_transform(X_valid)\n",
    "\n",
    "# Convert y_train to numpy array if it's not already\n",
    "y_train = np.array(y_train).reshape(-1, 1)\n",
    "y_valid = np.array(y_valid).reshape(-1, 1)\n",
    "\n",
    "y_train = scaler_y.fit_transform(y_train)\n",
    "y_valid = scaler_y.fit_transform(y_valid)"
   ]
  },
  {
   "cell_type": "code",
   "execution_count": 85,
   "metadata": {
    "tags": []
   },
   "outputs": [
    {
     "name": "stdout",
     "output_type": "stream",
     "text": [
      "[[-0.66381037 -0.69281429 -0.00882494 -0.78728333  1.40294535 -0.49975561]\n",
      " [-0.41755114 -0.14032692 -0.00882494  0.37943025  0.73533221 -0.51533539]\n",
      " [ 1.06000422  1.13039405 -0.00882494  1.54614384 -0.82243178 -0.49975561]\n",
      " ...\n",
      " [ 0.03392411  0.30166299 -0.00882494  0.37943025 -0.82243178 -0.49456235]\n",
      " [-0.78693998 -0.69281429 -0.00882494 -0.78728333 -0.82243178 -0.51533539]\n",
      " [ 0.23914013  0.79890163 -0.00882494 -0.78728333 -0.82243178 -0.44782303]]\n"
     ]
    }
   ],
   "source": [
    "print(X_train)"
   ]
  },
  {
   "cell_type": "code",
   "execution_count": 86,
   "metadata": {
    "tags": []
   },
   "outputs": [
    {
     "data": {
      "text/plain": [
       "((77048, 6), (77048, 1))"
      ]
     },
     "execution_count": 86,
     "metadata": {},
     "output_type": "execute_result"
    }
   ],
   "source": [
    "X_train.shape, y_train.shape"
   ]
  },
  {
   "cell_type": "code",
   "execution_count": 87,
   "metadata": {
    "tags": []
   },
   "outputs": [],
   "source": [
    "# from sklearn.preprocessing import StandardScaler\n",
    "# \n",
    "# sc_X = StandardScaler()\n",
    "# sc_y = StandardScaler()\n",
    "# \n",
    "# # Fit and transform X data\n",
    "# X_train = sc_X.fit_transform(X_train)\n",
    "# X_valid = sc_X.transform(X_valid)  # Use transform instead of fit_transform for validation set\n",
    "# \n",
    "# # Reshape y data to be 2D\n",
    "# y_train = y_train.values.reshape(-1, 1)\n",
    "# y_valid = y_valid.values.reshape(-1, 1)\n",
    "# \n",
    "# # Fit and transform y data\n",
    "# y_train = sc_y.fit_transform(y_train)\n",
    "# y_valid = sc_y.transform(y_valid)  # Use transform instead of fit_transform for validation set"
   ]
  },
  {
   "cell_type": "markdown",
   "metadata": {},
   "source": [
    "#### Selection and Evaluation"
   ]
  },
  {
   "cell_type": "code",
   "execution_count": 88,
   "metadata": {
    "tags": []
   },
   "outputs": [
    {
     "name": "stdout",
     "output_type": "stream",
     "text": [
      "Linear Regression Mean Squared Error: 0.3655400040729951\n",
      "Linear Regression Mean Absolute Error: 0.38187130904877015\n",
      "Linear Regression R-squared: 0.634459995927005\n",
      "\n",
      "\n",
      "Decision Tree Mean Squared Error: 0.6887241818693642\n",
      "Decision Tree Mean Absolute Error: 0.49752521580421044\n",
      "Decision Tree R-squared: 0.31127581813063576\n",
      "\n",
      "\n",
      "Random Forest Mean Squared Error: 0.39147352013268977\n",
      "Random Forest Mean Absolute Error: 0.38025634660364804\n",
      "Random Forest R-squared: 0.6085264798673102\n",
      "\n",
      "\n",
      "XGBoost Mean Squared Error: 0.35681822830172866\n",
      "XGBoost Mean Absolute Error: 0.34777126464898345\n",
      "XGBoost R-squared: 0.6431817716982713\n",
      "\n",
      "\n"
     ]
    }
   ],
   "source": [
    "from sklearn.linear_model import LinearRegression\n",
    "from sklearn.tree import DecisionTreeRegressor\n",
    "from sklearn.ensemble import RandomForestRegressor\n",
    "from xgboost import XGBRegressor\n",
    "from sklearn.metrics import mean_squared_error, mean_absolute_error, r2_score\n",
    "\n",
    "\n",
    "# Initialize models\n",
    "models = {\n",
    "    'Linear Regression': LinearRegression(),\n",
    "    'Decision Tree': DecisionTreeRegressor(random_state=7),\n",
    "    'Random Forest': RandomForestRegressor(random_state=7),\n",
    "    'XGBoost': XGBRegressor(random_state=7)\n",
    "}\n",
    "\n",
    "# Evaluate models with default hyperparameters\n",
    "for name, model in models.items():\n",
    "    model.fit(X_train, y_train)\n",
    "    y_pred = model.predict(X_valid)\n",
    "    mse = mean_squared_error(y_valid, y_pred)\n",
    "    mae = mean_absolute_error(y_valid, y_pred)\n",
    "    r2 = r2_score(y_valid, y_pred)\n",
    "    print(f'{name} Mean Squared Error: {mse}')\n",
    "    print(f'{name} Mean Absolute Error: {mae}')\n",
    "    print(f'{name} R-squared: {r2}\\n')\n",
    "    print()\n"
   ]
  },
  {
   "cell_type": "markdown",
   "metadata": {},
   "source": [
    "| Model             | Mean Squared Error (MSE) | Mean Absolute Error (MAE) | R-squared (R²) |\n",
    "|-------------------|--------------------------|---------------------------|----------------|\n",
    "| Linear Regression | 0.1980                   | 0.2692                    | 0.8007         |\n",
    "| Decision Tree     | 0.2895                   | 0.3122                    | 0.7087         |\n",
    "| Random Forest     | 0.1557                   | 0.2307                    | 0.8434         |\n",
    "| XGBoost           | 0.1557                   | 0.2260                    | 0.8433         |\n"
   ]
  },
  {
   "cell_type": "markdown",
   "metadata": {},
   "source": [
    "* `Random Forest` and `XGBoost` models show the lowest MSE and highest R², indicating they provide the best predictive performance and explain the most variance in the target variable (last_price).\n",
    "\n",
    "__`XGBoost`__ model will be used as a ML predictor of prices."
   ]
  },
  {
   "cell_type": "markdown",
   "metadata": {
    "tags": []
   },
   "source": [
    "#### Tuning Model [RandomizedSearchCV]"
   ]
  },
  {
   "cell_type": "code",
   "execution_count": 89,
   "metadata": {
    "tags": []
   },
   "outputs": [],
   "source": [
    "from scipy.stats import uniform\n",
    "\n",
    "param_dist_xgb = {\n",
    "    'n_estimators': [50, 100, 200, 300],\n",
    "    'learning_rate': uniform(0.01, 0.3),  # Uniform distribution between 0.01 and 0.31\n",
    "    'max_depth': [3, 4, 5, 6, 7, 8, 9, 10],\n",
    "    'subsample': uniform(0.6, 0.4),       # Uniform distribution between 0.6 and 1.0\n",
    "    'colsample_bytree': uniform(0.6, 0.4) # Uniform distribution between 0.6 and 1.0\n",
    "}\n"
   ]
  },
  {
   "cell_type": "code",
   "execution_count": null,
   "metadata": {
    "tags": []
   },
   "outputs": [],
   "source": [
    "from sklearn.model_selection import RandomizedSearchCV\n",
    "from xgboost import XGBRegressor\n",
    "\n",
    "xgb_model = XGBRegressor(random_state=7)\n",
    "\n",
    "# Initialize RandomizedSearchCV\n",
    "random_search_xgb = RandomizedSearchCV(estimator=xgb_model, \n",
    "                                       param_distributions=param_dist_xgb, \n",
    "                                       n_iter=100, \n",
    "                                       cv=3, \n",
    "                                       scoring='neg_mean_squared_error', \n",
    "                                       n_jobs=-1, \n",
    "                                       random_state=7)\n",
    "\n",
    "random_search_xgb.fit(X_train, y_train)\n",
    "\n",
    "best_xgb = random_search_xgb.best_estimator_\n",
    "print(f'Best XGBoost parameters: {best_xgb}')"
   ]
  },
  {
   "cell_type": "code",
   "execution_count": null,
   "metadata": {
    "tags": []
   },
   "outputs": [],
   "source": [
    "import matplotlib.pyplot as plt\n",
    "\n",
    "\n",
    "# Plot feature importance\n",
    "xgb.plot_importance(best_xgb, importance_type='weight')\n",
    "plt.show()"
   ]
  },
  {
   "cell_type": "markdown",
   "metadata": {},
   "source": [
    "What we see here is basically what features inluence the target variable the most: \n",
    "1. `area`, obviously, is the main condition to determine the price\n",
    "2. price of the sqm in the house also may help to indicate the location o the apartment in the city (closer to the center, more expensive it gets)\n",
    "3. living area is another regressor helping to understand, well, the living area (there also might be closets, balconies, etc.)\n",
    "4. days published and rooms has the least inluence"
   ]
  },
  {
   "cell_type": "code",
   "execution_count": null,
   "metadata": {
    "tags": []
   },
   "outputs": [],
   "source": [
    "xgb_model = XGBRegressor(**random_search_xgb.best_params_, random_state=7)\n",
    "\n",
    "# Fit the model on the training data\n",
    "xgb_model.fit(X_train, y_train)\n",
    "\n",
    "# Predict on the test set\n",
    "y_pred = xgb_model.predict(X_valid)\n",
    "\n",
    "# Evaluate the model\n",
    "mse = mean_squared_error(y_valid, y_pred)\n",
    "mae = mean_absolute_error(y_valid, y_pred)\n",
    "r2 = r2_score(y_valid, y_pred)\n",
    "\n",
    "print(f'XGBoost Mean Squared Error: {mse}')\n",
    "print(f'XGBoost Mean Absolute Error: {mae}')\n",
    "print(f'XGBoost R-squared: {r2}')"
   ]
  },
  {
   "cell_type": "markdown",
   "metadata": {},
   "source": [
    "---\n",
    "The tuning slightly improved the model and evaluation metrics."
   ]
  },
  {
   "cell_type": "code",
   "execution_count": null,
   "metadata": {
    "tags": []
   },
   "outputs": [],
   "source": [
    "from sklearn.model_selection import cross_val_score\n",
    "\n",
    "# Function to scale the y data within cross-validation\n",
    "def scale_y_within_cv(estimator, X, y):\n",
    "    y_scaled = scaler_y.fit_transform(y.reshape(-1, 1)).ravel()\n",
    "    return cross_val_score(estimator, X, y_scaled, cv=5, scoring='neg_mean_squared_error')\n",
    "\n",
    "# Perform cross-validation\n",
    "cv_scores = scale_y_within_cv(xgb_model, X, y.values)\n",
    "cv_mse_scores = -cv_scores  # Convert scores back to positive MSE values\n",
    "\n",
    "print(f'Cross-Validation Mean Squared Error: {cv_mse_scores.mean()}')\n"
   ]
  },
  {
   "cell_type": "code",
   "execution_count": null,
   "metadata": {
    "tags": []
   },
   "outputs": [],
   "source": [
    "from sklearn.model_selection import learning_curve\n",
    "\n",
    "# Use learning_curve to get train_sizes, train_scores, and test_scores\n",
    "train_sizes, train_scores, test_scores = learning_curve(xgb_model, \n",
    "                                                        X_train, \n",
    "                                                        y_train, \n",
    "                                                        cv=3, \n",
    "                                                        scoring='neg_mean_squared_error', \n",
    "                                                        train_sizes=np.linspace(0.1, 1.0, 10))\n",
    "\n",
    "# Calculate mean and standard deviation for training and validation scores\n",
    "train_scores_mean = -np.mean(train_scores, axis=1)\n",
    "train_scores_std = np.std(train_scores, axis=1)\n",
    "test_scores_mean = -np.mean(test_scores, axis=1)\n",
    "test_scores_std = np.std(test_scores, axis=1)\n",
    "\n",
    "# Plot learning curves\n",
    "plt.figure(figsize=(10, 6))\n",
    "plt.fill_between(train_sizes, train_scores_mean - train_scores_std, train_scores_mean + train_scores_std, alpha=0.1, color=\"r\")\n",
    "plt.fill_between(train_sizes, test_scores_mean - test_scores_std, test_scores_mean + test_scores_std, alpha=0.1, color=\"g\")\n",
    "plt.plot(train_sizes, train_scores_mean, 'o-', color=\"r\", label=\"Training Score\")\n",
    "plt.plot(train_sizes, test_scores_mean, 'o-', color=\"g\", label=\"Cross-validation Score\")\n",
    "plt.xlabel(\"Training examples\")\n",
    "plt.ylabel(\"Mean Squared Error\")\n",
    "plt.title(\"Learning Curves (XGBoost)\")\n",
    "plt.legend(loc=\"best\")\n",
    "plt.grid()\n",
    "plt.show()\n"
   ]
  },
  {
   "cell_type": "markdown",
   "metadata": {},
   "source": [
    "**Our model performs well is is not neither overfitted nor underfitted, amazing!**"
   ]
  },
  {
   "cell_type": "code",
   "execution_count": null,
   "metadata": {
    "tags": []
   },
   "outputs": [],
   "source": [
    "plt.figure(figsize=(16, 8))\n",
    "plt.plot(scaler_y.inverse_transform(y_valid.reshape(-1, 1)), label='Valid', color='blue')\n",
    "plt.plot(scaler_y.inverse_transform(y_pred.reshape(-1, 1)), label='Predict', color='orange')\n",
    "plt.legend()\n",
    "plt.show()"
   ]
  },
  {
   "cell_type": "code",
   "execution_count": null,
   "metadata": {},
   "outputs": [],
   "source": [
    "import joblib\n",
    "\n",
    "model_file = 'model.pkl'\n",
    "joblib.dump(xgb_model, model_file)\n",
    "\n",
    "scaler_X_file = 'scaler_x.pkl'\n",
    "joblib.dump(scaler_X, scaler_X_file)\n",
    "\n",
    "scaler_y_file = 'scaler_y.pkl'\n",
    "joblib.dump(scaler_y, scaler_y_file)\n"
   ]
  },
  {
   "cell_type": "code",
   "execution_count": null,
   "metadata": {
    "tags": []
   },
   "outputs": [],
   "source": [
    "xgb_model.fit(X_train, y_train)\n",
    "\n",
    "# Predict on the test set\n",
    "y_pred = xgb_model.predict(X_valid)\n",
    "\n",
    "# Reshape the predictions to a 2D array\n",
    "y_pred_reshaped = y_pred.reshape(-1, 1)\n",
    "\n",
    "# Inverse transform the scaled predictions to get them back to the original scale\n",
    "predictions = scaler_y.inverse_transform(y_pred_reshaped)\n",
    "\n",
    "# Reshape y_valid to a 2D array if it isn't already\n",
    "if y_valid.ndim == 1:\n",
    "    y_valid_reshaped = y_valid.reshape(-1, 1)\n",
    "else:\n",
    "    y_valid_reshaped = y_valid\n",
    "\n",
    "# Inverse transform the true values to get them back to the original scale\n",
    "true_values = scaler_y.inverse_transform(y_valid_reshaped)\n",
    "\n",
    "# Display the first 5 predictions and true values\n",
    "for pred, val in zip(predictions[5:30], true_values[5:30]):\n",
    "    print(f\"Prediction: {pred[0]}, True Value: {val[0]}\")\n"
   ]
  },
  {
   "cell_type": "code",
   "execution_count": null,
   "metadata": {},
   "outputs": [],
   "source": [
    "pwd"
   ]
  },
  {
   "cell_type": "code",
   "execution_count": null,
   "metadata": {},
   "outputs": [],
   "source": [
    "import numpy as np\n",
    "import pickle\n",
    "import ipywidgets as widgets\n",
    "from IPython.display import display\n",
    "from sklearn.preprocessing import StandardScaler\n",
    "\n",
    "# Load the trained model and scalers with error handling\n",
    "try:\n",
    "    with open('model.pkl', 'rb') as model_file, open('scaler_x.pkl', 'rb') as sc_x_file, open('scaler_y.pkl', 'rb') as sc_y_file:\n",
    "        model = pickle.load(model_file)\n",
    "        sc_x = pickle.load(sc_x_file)\n",
    "        sc_y = pickle.load(sc_y_file)\n",
    "except pickle.UnpicklingError as e:\n",
    "    print(f\"Error unpickling file: {e}\")\n",
    "except FileNotFoundError as e:\n",
    "    print(f\"File not found: {e}\")\n",
    "except Exception as e:\n",
    "    print(f\"An error occurred: {e}\")\n",
    "\n",
    "def predict(open_plan, house_price_sqm_median, lving_area, rooms, area, days_published):\n",
    "    x = np.array([open_plan, rooms, area, house_price_sqm_median, lving_area, days_published]).reshape(1, -1)\n",
    "    x = sc_x.transform(x)\n",
    "    result = model.predict(x)\n",
    "    result = sc_y.inverse_transform(result.reshape(1, -1))\n",
    "    return str(result[0][0])\n",
    "\n",
    "# Create input widgets\n",
    "open_plan_widget = widgets.IntText(description='Open Plan:')\n",
    "house_price_sqm_median_widget = widgets.FloatText(description='House Price/sqm:')\n",
    "lving_area_widget = widgets.FloatText(description='Living Area:')\n",
    "rooms_widget = widgets.IntText(description='Rooms:')\n",
    "area_widget = widgets.FloatText(description='Area:')\n",
    "days_published_widget = widgets.IntText(description='Days Published:')\n",
    "output = widgets.Output()\n",
    "\n",
    "def on_button_click(b):\n",
    "    with output:\n",
    "        output.clear_output()\n",
    "        result = predict(\n",
    "            open_plan_widget.value,\n",
    "            house_price_sqm_median_widget.value,\n",
    "            lving_area_widget.value,\n",
    "            rooms_widget.value,\n",
    "            area_widget.value,\n",
    "            days_published_widget.value\n",
    "        )\n",
    "        print(f\"Predicted Result: {result}\")\n",
    "\n",
    "button = widgets.Button(description=\"Predict\")\n",
    "button.on_click(on_button_click)\n",
    "\n",
    "# Display widgets\n",
    "display(open_plan_widget, house_price_sqm_median_widget, lving_area_widget, rooms_widget, area_widget, days_published_widget, button, output)\n"
   ]
  },
  {
   "cell_type": "code",
   "execution_count": null,
   "metadata": {},
   "outputs": [],
   "source": []
  },
  {
   "cell_type": "code",
   "execution_count": null,
   "metadata": {},
   "outputs": [],
   "source": []
  },
  {
   "cell_type": "code",
   "execution_count": null,
   "metadata": {},
   "outputs": [],
   "source": []
  },
  {
   "cell_type": "code",
   "execution_count": null,
   "metadata": {},
   "outputs": [],
   "source": []
  }
 ],
 "metadata": {
  "kernelspec": {
   "display_name": "Python 3 (ipykernel)",
   "language": "python",
   "name": "python3"
  },
  "language_info": {
   "codemirror_mode": {
    "name": "ipython",
    "version": 3
   },
   "file_extension": ".py",
   "mimetype": "text/x-python",
   "name": "python",
   "nbconvert_exporter": "python",
   "pygments_lexer": "ipython3",
   "version": "3.10.8"
  },
  "varInspector": {
   "cols": {
    "lenName": 16,
    "lenType": 16,
    "lenVar": 40
   },
   "kernels_config": {
    "python": {
     "delete_cmd_postfix": "",
     "delete_cmd_prefix": "del ",
     "library": "var_list.py",
     "varRefreshCmd": "print(var_dic_list())"
    },
    "r": {
     "delete_cmd_postfix": ") ",
     "delete_cmd_prefix": "rm(",
     "library": "var_list.r",
     "varRefreshCmd": "cat(var_dic_list()) "
    }
   },
   "types_to_exclude": [
    "module",
    "function",
    "builtin_function_or_method",
    "instance",
    "_Feature"
   ],
   "window_display": false
  }
 },
 "nbformat": 4,
 "nbformat_minor": 4
}
